{
 "cells": [
  {
   "cell_type": "markdown",
   "metadata": {},
   "source": [
    "# День третий DWthon - выйди за рамки стандартного мышления!\n",
    "\n",
    "### Цель состоит в том, чтобы найти отличительные черты для групп 80/20.\n",
    "\n",
    "Это уже следующий шаг после того, как мы уже убедились, что правило 80/20 есть и мы хотим начать с этим как-то жить. Сейчас мы пытаемся научиться описывать объекты (продукты, клиентов, заказы и т.д.) с помощью характеристик (признаков) этих же объектов, которые выделяют самое важное (то, что нам важно). \n",
    "\n",
    "Говоря совсем простым языком, наша цель - научиться отличать клиентов, которые генерируют 80% дохода (и назовем их TOP клиентами) от остальных.\n",
    "Благодаря этому, мы можем расставлять приоритеты и управлять своей работой быстрее, проще и эффективнее."
   ]
  },
  {
   "cell_type": "markdown",
   "metadata": {},
   "source": [
    "### ☝️ Прежде, чем мы начнем, важно (!)\n",
    "\n",
    "Во время наших инициатив мы много говорим о развитии. В этот раз мы тоже решили попробовать измерить твое развитие. Для чего?\n",
    "Прежде всего, чтобы обратить Твое внимание на очень важную вещь, о которой, к сожалению, большинство забывает. Я имею в виду «дельту развития». Можно ли как-то измерить, насколько продвинулось Твое развитие (хотя бы в ML) во время DWthon? :) Давай попробуем!\n",
    "\n",
    "Каждый день DWthon - проводится специальный опрос. Пожалуйста, заполни его, прежде, чем приступить к обучению. В конце концов - это может быть приятным сюрпризом :) Это займет у Тебя **только** 2-3 минуты.\n",
    "\n",
    "\n",
    "##  👉👉 **[Заполни анкету](https://bit.ly/2Td5nkx)** 👈👈 и измерь дельту своего развития 💪"
   ]
  },
  {
   "cell_type": "markdown",
   "metadata": {},
   "source": [
    "### Где задавать вопросы ❓ \n",
    "Я надеюсь, помнишь, что это нормально, что у Тебя возникают вопросы. Если что-то не получается - обязательно об этом спроси в чате. Сегодня у нас третий день, поэтому все вопросы нужно задавать здесь [#dwthon_day3](https://bit.ly/3f6tLfV)\n",
    "\n",
    "Просто, подробно и по-человечески объясни, в чем возникла проблема. Лучше всего выложить скрин со своим кодом или обнаруженной ошибкой и написать, какой задачи это касается :). Также постарайся помочь другим."
   ]
  },
  {
   "cell_type": "code",
   "execution_count": 1,
   "metadata": {},
   "outputs": [
    {
     "data": {
      "text/html": [
       "<iframe style=\"height:500px;width:100%\" src=\"https://www.youtube.com/embed/zBIZxOHCCtk\" frameborder=\"0\" allow=\"autoplay; encrypted-media\" allowfullscreen></iframe>\n"
      ],
      "text/plain": [
       "<IPython.core.display.HTML object>"
      ]
     },
     "metadata": {},
     "output_type": "display_data"
    }
   ],
   "source": [
    "%%html\n",
    "<iframe style=\"height:500px;width:100%\" src=\"https://www.youtube.com/embed/zBIZxOHCCtk\" frameborder=\"0\" allow=\"autoplay; encrypted-media\" allowfullscreen></iframe>"
   ]
  },
  {
   "cell_type": "markdown",
   "metadata": {},
   "source": [
    "### Шаг за шагом\n",
    "\n",
    "Я также записал для Тебя \"пошаговое\" видео. В видео ниже найдешь именно то, что в этом блокноте, только со всеми объяснениями, чтобы облегчить твою работу и понять проблемы и задачи :) Посмотри, нужна ли Тебе такая дополнительная поддержка."
   ]
  },
  {
   "cell_type": "code",
   "execution_count": null,
   "metadata": {},
   "outputs": [],
   "source": [
    "%%html\n",
    "<iframe style=\"height:500px;width:100%\" src=\"https://www.youtube.com/embed/E8a9GVKWybk\" frameborder=\"0\" allow=\"autoplay; encrypted-media\" allowfullscreen></iframe>"
   ]
  },
  {
   "cell_type": "markdown",
   "metadata": {},
   "source": [
    "## Библиотеки\n",
    "\n",
    "Помимо `pandas`, будем использовать новую библиотеку для графиков - `matplotlib`."
   ]
  },
  {
   "cell_type": "code",
   "execution_count": 1,
   "metadata": {},
   "outputs": [],
   "source": [
    "import pandas as pd\n",
    "\n",
    "import matplotlib\n",
    "import matplotlib.pyplot as plt\n",
    "plt.style.use('ggplot') #стиль\n",
    "matplotlib.rcParams['figure.figsize'] = (12, 5) #размер графика"
   ]
  },
  {
   "cell_type": "markdown",
   "metadata": {},
   "source": [
    "## Загрузим данные\n",
    "\n",
    "Ты ведь помнишь, как это делать? Повторим еще раз :). Мы используем для этого функции `pd.read_hdf`."
   ]
  },
  {
   "cell_type": "code",
   "execution_count": 2,
   "metadata": {},
   "outputs": [
    {
     "name": "stdout",
     "output_type": "stream",
     "text": [
      "(820906, 9)\n"
     ]
    },
    {
     "data": {
      "text/html": [
       "<div>\n",
       "<style scoped>\n",
       "    .dataframe tbody tr th:only-of-type {\n",
       "        vertical-align: middle;\n",
       "    }\n",
       "\n",
       "    .dataframe tbody tr th {\n",
       "        vertical-align: top;\n",
       "    }\n",
       "\n",
       "    .dataframe thead th {\n",
       "        text-align: right;\n",
       "    }\n",
       "</style>\n",
       "<table border=\"1\" class=\"dataframe\">\n",
       "  <thead>\n",
       "    <tr style=\"text-align: right;\">\n",
       "      <th></th>\n",
       "      <th>order_id</th>\n",
       "      <th>customer_id</th>\n",
       "      <th>product_id</th>\n",
       "      <th>quantity</th>\n",
       "      <th>price_unit</th>\n",
       "      <th>price_total</th>\n",
       "      <th>country_id</th>\n",
       "      <th>order_date</th>\n",
       "      <th>is_canceled</th>\n",
       "    </tr>\n",
       "  </thead>\n",
       "  <tbody>\n",
       "    <tr>\n",
       "      <th>23643</th>\n",
       "      <td>1678</td>\n",
       "      <td>874</td>\n",
       "      <td>1222</td>\n",
       "      <td>72</td>\n",
       "      <td>21</td>\n",
       "      <td>1512</td>\n",
       "      <td>0</td>\n",
       "      <td>2010-12-17 08:20:00</td>\n",
       "      <td>False</td>\n",
       "    </tr>\n",
       "    <tr>\n",
       "      <th>44440</th>\n",
       "      <td>3128</td>\n",
       "      <td>436</td>\n",
       "      <td>801</td>\n",
       "      <td>4</td>\n",
       "      <td>425</td>\n",
       "      <td>1700</td>\n",
       "      <td>15</td>\n",
       "      <td>2011-01-26 14:30:00</td>\n",
       "      <td>False</td>\n",
       "    </tr>\n",
       "    <tr>\n",
       "      <th>629503</th>\n",
       "      <td>41432</td>\n",
       "      <td>2468</td>\n",
       "      <td>1342</td>\n",
       "      <td>30</td>\n",
       "      <td>195</td>\n",
       "      <td>5850</td>\n",
       "      <td>0</td>\n",
       "      <td>2010-07-28 12:17:00</td>\n",
       "      <td>False</td>\n",
       "    </tr>\n",
       "    <tr>\n",
       "      <th>491014</th>\n",
       "      <td>31621</td>\n",
       "      <td>1661</td>\n",
       "      <td>1436</td>\n",
       "      <td>25</td>\n",
       "      <td>42</td>\n",
       "      <td>1050</td>\n",
       "      <td>0</td>\n",
       "      <td>2010-03-08 08:45:00</td>\n",
       "      <td>False</td>\n",
       "    </tr>\n",
       "    <tr>\n",
       "      <th>193883</th>\n",
       "      <td>13701</td>\n",
       "      <td>126</td>\n",
       "      <td>125</td>\n",
       "      <td>4</td>\n",
       "      <td>395</td>\n",
       "      <td>1580</td>\n",
       "      <td>0</td>\n",
       "      <td>2011-07-20 15:33:00</td>\n",
       "      <td>False</td>\n",
       "    </tr>\n",
       "  </tbody>\n",
       "</table>\n",
       "</div>"
      ],
      "text/plain": [
       "        order_id  customer_id  product_id  quantity  price_unit  price_total  \\\n",
       "23643       1678          874        1222        72          21         1512   \n",
       "44440       3128          436         801         4         425         1700   \n",
       "629503     41432         2468        1342        30         195         5850   \n",
       "491014     31621         1661        1436        25          42         1050   \n",
       "193883     13701          126         125         4         395         1580   \n",
       "\n",
       "        country_id          order_date  is_canceled  \n",
       "23643            0 2010-12-17 08:20:00        False  \n",
       "44440           15 2011-01-26 14:30:00        False  \n",
       "629503           0 2010-07-28 12:17:00        False  \n",
       "491014           0 2010-03-08 08:45:00        False  \n",
       "193883           0 2011-07-20 15:33:00        False  "
      ]
     },
     "execution_count": 2,
     "metadata": {},
     "output_type": "execute_result"
    }
   ],
   "source": [
    "df = pd.read_hdf(\"../input/data.h5\")\n",
    "\n",
    "print(df.shape)\n",
    "df.sample(5)"
   ]
  },
  {
   "cell_type": "markdown",
   "metadata": {},
   "source": [
    "## Целевая переменная\n",
    "\n",
    "\n",
    "<blockquote>\n",
    "— <b>Скажите, пожалуйста, куда мне отсюда идти?</b> <br />\n",
    "— <i>А куда ты хочешь попасть?</i> — ответил Кот. <br />\n",
    "— <b>Мне все равно...</b> — сказала Алиса. <br />\n",
    "— <i>Тогда все равно, куда и идти</i>, — заметил Кот. <br />\n",
    "— <b>... только бы попасть куда-нибудь</b>, — пояснила Алиса. <br />\n",
    "— <i>Куда-нибудь ты обязательно попадешь</i>, — сказал Кот. <br />\n",
    "— <i>Нужно только достаточно долго идти</i>.<br />\n",
    "<br />\n",
    "    \n",
    "Алиса в стране чудес (Льюис Кэрролл)\n",
    "</blockquote> \n",
    "\n",
    "\n",
    "Иногда в жизни полезно поблуждать, но в нашем случае, мы хотим как можно более осознанно подходить к нашим решениям.\n",
    "Мы хотим знать, куда мы идем. Ведь мы уже знаем, где хотим оказаться?\n",
    "\n",
    "Мы хотим выбрать группы/сегменты, которые дает «большинство» (больше доходов и прибыли).\n",
    "Вспомним код из предыдущего урока и посчитаем накопительную сумму (все в одной ячейке)."
   ]
  },
  {
   "cell_type": "code",
   "execution_count": 3,
   "metadata": {},
   "outputs": [
    {
     "data": {
      "text/html": [
       "<div>\n",
       "<style scoped>\n",
       "    .dataframe tbody tr th:only-of-type {\n",
       "        vertical-align: middle;\n",
       "    }\n",
       "\n",
       "    .dataframe tbody tr th {\n",
       "        vertical-align: top;\n",
       "    }\n",
       "\n",
       "    .dataframe thead th {\n",
       "        text-align: right;\n",
       "    }\n",
       "</style>\n",
       "<table border=\"1\" class=\"dataframe\">\n",
       "  <thead>\n",
       "    <tr style=\"text-align: right;\">\n",
       "      <th></th>\n",
       "      <th>customer_id</th>\n",
       "      <th>customer_price_total</th>\n",
       "      <th>cumsum</th>\n",
       "    </tr>\n",
       "  </thead>\n",
       "  <tbody>\n",
       "    <tr>\n",
       "      <th>448</th>\n",
       "      <td>448</td>\n",
       "      <td>61130939</td>\n",
       "      <td>61130939</td>\n",
       "    </tr>\n",
       "    <tr>\n",
       "      <th>907</th>\n",
       "      <td>907</td>\n",
       "      <td>53007160</td>\n",
       "      <td>114138099</td>\n",
       "    </tr>\n",
       "    <tr>\n",
       "      <th>2647</th>\n",
       "      <td>2647</td>\n",
       "      <td>33695110</td>\n",
       "      <td>147833209</td>\n",
       "    </tr>\n",
       "    <tr>\n",
       "      <th>179</th>\n",
       "      <td>179</td>\n",
       "      <td>31039769</td>\n",
       "      <td>178872978</td>\n",
       "    </tr>\n",
       "    <tr>\n",
       "      <th>66</th>\n",
       "      <td>66</td>\n",
       "      <td>29774259</td>\n",
       "      <td>208647237</td>\n",
       "    </tr>\n",
       "  </tbody>\n",
       "</table>\n",
       "</div>"
      ],
      "text/plain": [
       "      customer_id  customer_price_total     cumsum\n",
       "448           448              61130939   61130939\n",
       "907           907              53007160  114138099\n",
       "2647         2647              33695110  147833209\n",
       "179           179              31039769  178872978\n",
       "66             66              29774259  208647237"
      ]
     },
     "execution_count": 3,
     "metadata": {},
     "output_type": "execute_result"
    }
   ],
   "source": [
    "df_customers = (\n",
    "    df[ [\"price_total\", \"customer_id\"] ]\n",
    "    .groupby(\"customer_id\")\n",
    "    .agg(\"sum\")\n",
    "    .reset_index()\n",
    "    .sort_values(by=\"price_total\", ascending=False)\n",
    "    .rename(columns={\"price_total\": \"customer_price_total\"})\n",
    ")\n",
    "\n",
    "\n",
    "df_customers[\"cumsum\"] = df_customers[\"customer_price_total\"].cumsum()\n",
    "df_customers.head(5)"
   ]
  },
  {
   "cell_type": "markdown",
   "metadata": {},
   "source": [
    "Теперь мы хотим создать новый столбец, например, с названием `most_revenue_customer`, где значение может быть `True` или `False`.\n",
    "\n",
    "Значение `True` будет, когда этот конкретный покупатель находится в группе ~20%, которая приносит 80% дохода."
   ]
  },
  {
   "cell_type": "code",
   "execution_count": 4,
   "metadata": {},
   "outputs": [
    {
     "data": {
      "text/plain": [
       "False    4555\n",
       "True     1324\n",
       "Name: most_revenue_customer, dtype: int64"
      ]
     },
     "execution_count": 4,
     "metadata": {},
     "output_type": "execute_result"
    }
   ],
   "source": [
    "value_80prc = int(df[\"price_total\"].sum() * 0.8)\n",
    "df_customers[\"most_revenue_customer\"] = df_customers[\"cumsum\"] < value_80prc\n",
    "\n",
    "df_customers[\"most_revenue_customer\"].value_counts()"
   ]
  },
  {
   "cell_type": "markdown",
   "metadata": {},
   "source": [
    "`value_counts()` пишем в конце. Кстати, запомни эту функцию - она весьма удобная и часто применяется, когда нужно проверить, какие уникальные значения в столбце и сколько их (в штуках).\n",
    "\n",
    "В нашем случае у нас `1324` клиента, которые входят в число ключевых бизнес-клиентов, так как приносят компании 80% ее доходов. Если мы «потеряем» этих клиентов, у компании будут большие проблемы -80% доходов. Если не учитывать остальных клиентов (например мы потеряем остальные 80% клиентов), то у компании будет только -20% потерь. Чувствуешь разницу, правда?\n",
    "\n",
    "Кстати, в `.value_counts` можешь нормализовать результат (указав аргумент` normalize=True`). И тогда можешь увидеть результат, выраженный в процентах. Иногда это удобно. Смотрим на примере, как это делается 👀."
   ]
  },
  {
   "cell_type": "code",
   "execution_count": 5,
   "metadata": {},
   "outputs": [
    {
     "data": {
      "text/plain": [
       "False    0.774792\n",
       "True     0.225208\n",
       "Name: most_revenue_customer, dtype: float64"
      ]
     },
     "execution_count": 5,
     "metadata": {},
     "output_type": "execute_result"
    }
   ],
   "source": [
    "df_customers[\"most_revenue_customer\"].value_counts(normalize=True)"
   ]
  },
  {
   "cell_type": "markdown",
   "metadata": {},
   "source": [
    "Мы видим, что `most_revenue_customer` (то есть ценность`True`) имеет **22,5%** (посчитаем `0.225208 * 100%` и округлим до `22,5%` 😉).\n",
    "\n",
    "Давай сегмент клиентов (наш `top_customers`), которые принесли 80% дохода, соберем лично (ну или точнее по `customer_id`). Для этого воспользуемся функцией `unique()`, которая вернет список идентификаторов клиентов (уникальные идентификаторы, означающие, что каждый идентификатор встречается ровно один раз). \n",
    "\n",
    "Кроме того, мы конвертируем результат в набор (анг. `set`), который гарантирует нам, что каждый customer_id будет учтен только раз.\n",
    "\n",
    "Кодим!"
   ]
  },
  {
   "cell_type": "code",
   "execution_count": 6,
   "metadata": {},
   "outputs": [
    {
     "data": {
      "text/plain": [
       "1324"
      ]
     },
     "execution_count": 6,
     "metadata": {},
     "output_type": "execute_result"
    }
   ],
   "source": [
    "top_customers = set(df_customers[ df_customers[\"most_revenue_customer\"] ][\"customer_id\"].unique())\n",
    "len(top_customers)"
   ]
  },
  {
   "cell_type": "markdown",
   "metadata": {},
   "source": [
    "Теперь мы также можем добавить новый столбец `most_revenue_customer` в исходный `df`. \n",
    "\n",
    "Используя функцию `map`, мы перебираем данные -  значение за значением и проверяем, находится ли покупатель (`customer_id`) в наборе `top_customers`. Есть два возможных ответа: да или нет (`True` или `False`)."
   ]
  },
  {
   "cell_type": "code",
   "execution_count": 7,
   "metadata": {},
   "outputs": [
    {
     "data": {
      "text/plain": [
       "True     539072\n",
       "False    281834\n",
       "Name: most_revenue_customer, dtype: int64"
      ]
     },
     "execution_count": 7,
     "metadata": {},
     "output_type": "execute_result"
    }
   ],
   "source": [
    "df[\"most_revenue_customer\"] = df[\"customer_id\"].map(lambda x: x in top_customers)\n",
    "df[\"most_revenue_customer\"].value_counts()"
   ]
  },
  {
   "cell_type": "markdown",
   "metadata": {},
   "source": [
    "Появилось слово `lambda`, так называемая анонимная функция. Сейчас я не буду вдаваться в подробности. Самым важным в этой функции `lambda x: x in top_customers` - является тело функции, в котором прописывается условие `x in top_customers`. Где `x` - это имя переменной, в данном случае `x` - это `customer_id`.\n",
    "\n",
    "\n",
    "*🤔Если вначале много неясностей и чувствуешь определенный дискомфорт с кодом Питона 🤯 -  это нормально. Всё хорошо! Тебе нужно немного больше времени, чтобы все понять. В DataWorkshop есть отдельный 3-х недельный онлайн-курс **[\"Практическое введение в Python для Data Science\"](https://bit.ly/3mYcJI5)**, где есть более подробная информация о **lambda**, **pandas**, **numpy** и др. Все, что тебе нужно, чтобы лучше начать анализировать данные в Python. И не пытайся понять все сразу*. Кстати, 3-недельный курс по Python стартует уже **после DWThona** и к тому же, если выполнишь все 5 дней DWthon получишь очень привлекательное предложение 🎁. Мой авторуский онлайн курс поможет Тебе лучше погрузиться в Python и нужные библиотеки для работы с данными и аналитикой, опять же согласно закону Парето - 20% усилий дает 80% ценности. Тебе точно понравится ❤️.\n",
    "\n",
    "----\n",
    "\n",
    "В итоге мы создали новый столбец с названием `most_revenue_customer`. Давай еще раз посмотрим (немного с другой стороны), что там внутри - для этого используем функцию \n",
    "`.value_counts(normalize=True)`."
   ]
  },
  {
   "cell_type": "code",
   "execution_count": 9,
   "metadata": {},
   "outputs": [
    {
     "data": {
      "text/plain": [
       "True     0.656679\n",
       "False    0.343321\n",
       "Name: most_revenue_customer, dtype: float64"
      ]
     },
     "execution_count": 9,
     "metadata": {},
     "output_type": "execute_result"
    }
   ],
   "source": [
    "df[\"most_revenue_customer\"].value_counts(normalize=True)"
   ]
  },
  {
   "cell_type": "markdown",
   "metadata": {},
   "source": [
    "Видно, что наибольшее количество «строк» (объектов) в нашем `df` было создано клиентами из сегмента `most_revenue_customer`. Это говорит о том, что эти клиенты сделали (и/или):\n",
    "- много заказов;\n",
    "- заказали много разных продуктов в одном заказе.\n",
    "\n",
    "Мы проверим оба случая, чтобы лучше понять, что **нужно сделать**, чтобы попасть в сегмент `most_revenue_customer`."
   ]
  },
  {
   "cell_type": "markdown",
   "metadata": {},
   "source": [
    "Когда мы знаем, к чему хотим стремиться, это уже достаточно много... 💪 Задумайся на мгновение, как часто осознаешь, к чему именно нужно стремиться? 🤔\n",
    "\n",
    "\n",
    "## Если мы знаем «кто», остается ответить на вопрос «как»?\n",
    "Управление своей энергией имеет решающее значение в жизни 🔋. Все просто! У каждого из нас очень ограниченное и конечное количество энергии. Тебе решать, кому ее отдать. Давай проведем мысленный эксперимент. Представь, у Тебя в кармане 1000 рублей. Ведь можно потратить их по-разному, верно? Начиная с того, что всегда можешь их выбросить в окно или закопать в землю (или спалить на костре), но  также можно купить книгу или мини-курс и инвестировать в свое развитие. Каждое из этих решений повлияет на то, где будешь в итоге. Здесь работает простое правило - то, где сейчас находишься, - это сумма (эффект) всех Твоих предыдущих (осознанных или неосознанных) решений.\n",
    "\n",
    "\n",
    "#### Поэтому стоит позаботиться о том, как распоряжаешься своей энергией\n",
    "\n",
    "Мы уже убедились собственными глазами, что некоторые клиенты приносят (гораздо) больший доход. Хотелось бы, чтобы таких клиентов было побольше, не так ли? Вопрос: **как отличить именно этих клиентов от других, глядя в будущее, а не в прошлое (не дожидаясь пока купят или не купят)?** Собственно, как можно описать (охарактеризовать) такого клиента?\n",
    "\n",
    "👀 Почему важно предугадывать поведение клиента прежде, чем он совершит покупку? Потому что есть много других затрат, например, расходы на рекламу и куча другой головной боли (все, кто имел с этим дело - сейчас активно \"машут головой\"). Поэтому заранее узнать, что характеризует «идеального клиента», и \"заинвестировать\" большую часть своего внимания и энергии в поиск людей, которым нужно именно Твое решение (продукт или услуга).\n",
    "\n",
    "Еще раз повторю, но это должно стать очевидным. Мы хотим понять, чем «идеальные клиенты» отличаются от других клиентов. Кстати, здесь слово «идеальный» может использоваться во многих контекстах: идеальный клиент, идеальный продукт, идеальный заказ, идеальный период времени и т. д. Это означает, что у нас есть ситуация, когда можно сделать меньше и получить больше, естественно, проще, потому что мы находимся в нужном месте, в нужное время и с нужным решением для нужных клиентов и т. д.\n",
    "\n",
    "Отсюда предполагаем, что каждое из этих измерений/объектов (клиент, продукт, заказ и т. д.) имеют определенные свойства, атрибуты или характеристики, которые могут отличать «идеал» от «других». В машинном обучении (англ. `machine learning`) мы называем эти свойства признаками (англ. `features`). Есть даже такой процесс (который очень важен) по созданию (изобретению) новых признаков, которые лучше описывают объект (покупателя, продукт и т. Д.). У этого процесса есть свое название \"инженерия признаков\" (англ. `feature engineering`).\n",
    "\n",
    "Этим мы и займемся :)\n",
    "\n",
    "\n",
    "## Как можешь описать клиента?\n",
    "\n",
    "Поиск новых и значимых признаков - это искусство большее, чем наука. Лучше всего показать это на примерах, потому что универсального алгоритма не существует (и это даже хорошо, потому что иначе этот процесс давно уже был бы автоматизирован).\n",
    "\n",
    "👀 На первый взгляд может показаться, что у нас очень мало информации о клиентах, продуктах (например, только идентификатор), но на самом деле необходимо уметь извлекать ее, на основании имеющихся данных.\n",
    "\n",
    "Начнем с простого примера, связанного с клиентом.\n",
    "\n",
    "### Сколько заказов выполнил каждый клиент?"
   ]
  },
  {
   "cell_type": "code",
   "execution_count": 10,
   "metadata": {},
   "outputs": [
    {
     "data": {
      "text/html": [
       "<div>\n",
       "<style scoped>\n",
       "    .dataframe tbody tr th:only-of-type {\n",
       "        vertical-align: middle;\n",
       "    }\n",
       "\n",
       "    .dataframe tbody tr th {\n",
       "        vertical-align: top;\n",
       "    }\n",
       "\n",
       "    .dataframe thead th {\n",
       "        text-align: right;\n",
       "    }\n",
       "</style>\n",
       "<table border=\"1\" class=\"dataframe\">\n",
       "  <thead>\n",
       "    <tr style=\"text-align: right;\">\n",
       "      <th></th>\n",
       "      <th>customer_id</th>\n",
       "      <th>count_orders</th>\n",
       "      <th>most_revenue_customer</th>\n",
       "    </tr>\n",
       "  </thead>\n",
       "  <tbody>\n",
       "    <tr>\n",
       "      <th>0</th>\n",
       "      <td>0</td>\n",
       "      <td>159</td>\n",
       "      <td>True</td>\n",
       "    </tr>\n",
       "    <tr>\n",
       "      <th>1</th>\n",
       "      <td>1</td>\n",
       "      <td>40</td>\n",
       "      <td>True</td>\n",
       "    </tr>\n",
       "    <tr>\n",
       "      <th>2</th>\n",
       "      <td>2</td>\n",
       "      <td>30</td>\n",
       "      <td>True</td>\n",
       "    </tr>\n",
       "    <tr>\n",
       "      <th>3</th>\n",
       "      <td>3</td>\n",
       "      <td>9</td>\n",
       "      <td>False</td>\n",
       "    </tr>\n",
       "    <tr>\n",
       "      <th>4</th>\n",
       "      <td>4</td>\n",
       "      <td>14</td>\n",
       "      <td>True</td>\n",
       "    </tr>\n",
       "    <tr>\n",
       "      <th>...</th>\n",
       "      <td>...</td>\n",
       "      <td>...</td>\n",
       "      <td>...</td>\n",
       "    </tr>\n",
       "    <tr>\n",
       "      <th>5874</th>\n",
       "      <td>5874</td>\n",
       "      <td>2</td>\n",
       "      <td>False</td>\n",
       "    </tr>\n",
       "    <tr>\n",
       "      <th>5875</th>\n",
       "      <td>5875</td>\n",
       "      <td>1</td>\n",
       "      <td>False</td>\n",
       "    </tr>\n",
       "    <tr>\n",
       "      <th>5876</th>\n",
       "      <td>5876</td>\n",
       "      <td>1</td>\n",
       "      <td>False</td>\n",
       "    </tr>\n",
       "    <tr>\n",
       "      <th>5877</th>\n",
       "      <td>5877</td>\n",
       "      <td>1</td>\n",
       "      <td>False</td>\n",
       "    </tr>\n",
       "    <tr>\n",
       "      <th>5878</th>\n",
       "      <td>5878</td>\n",
       "      <td>2</td>\n",
       "      <td>False</td>\n",
       "    </tr>\n",
       "  </tbody>\n",
       "</table>\n",
       "<p>5879 rows × 3 columns</p>\n",
       "</div>"
      ],
      "text/plain": [
       "      customer_id  count_orders  most_revenue_customer\n",
       "0               0           159                   True\n",
       "1               1            40                   True\n",
       "2               2            30                   True\n",
       "3               3             9                  False\n",
       "4               4            14                   True\n",
       "...           ...           ...                    ...\n",
       "5874         5874             2                  False\n",
       "5875         5875             1                  False\n",
       "5876         5876             1                  False\n",
       "5877         5877             1                  False\n",
       "5878         5878             2                  False\n",
       "\n",
       "[5879 rows x 3 columns]"
      ]
     },
     "execution_count": 10,
     "metadata": {},
     "output_type": "execute_result"
    }
   ],
   "source": [
    "df_customer_orders = (\n",
    "    df[ [\"customer_id\", \"order_id\"] ]\n",
    "        .groupby([\"customer_id\"])\n",
    "        .agg(lambda x: len(set(x)) )\n",
    "        .reset_index()\n",
    "        .rename(columns={\"order_id\": \"count_orders\"})\n",
    "        \n",
    ")\n",
    "\n",
    "df_customer_orders[\"most_revenue_customer\"] = df_customer_orders[\"customer_id\"].map(lambda x: x in top_customers)\n",
    "df_customer_orders"
   ]
  },
  {
   "cell_type": "markdown",
   "metadata": {},
   "source": [
    "☝️ Обрати внимание, что мы также добавили новый столбец в `df_customer_orders` под названием `most_revenue_customer`, который имеет значение `True` или `False`. "
   ]
  },
  {
   "cell_type": "markdown",
   "metadata": {},
   "source": [
    "Мы видим, что у `customer_id = 0` 159 заказов, у `customer_id = 5878` - два заказа. Давай сделаем быструю перепроверку `double-check`, чтобы убедиться, что мы все делаем правильно."
   ]
  },
  {
   "cell_type": "code",
   "execution_count": 11,
   "metadata": {},
   "outputs": [
    {
     "data": {
      "text/html": [
       "<div>\n",
       "<style scoped>\n",
       "    .dataframe tbody tr th:only-of-type {\n",
       "        vertical-align: middle;\n",
       "    }\n",
       "\n",
       "    .dataframe tbody tr th {\n",
       "        vertical-align: top;\n",
       "    }\n",
       "\n",
       "    .dataframe thead th {\n",
       "        text-align: right;\n",
       "    }\n",
       "</style>\n",
       "<table border=\"1\" class=\"dataframe\">\n",
       "  <thead>\n",
       "    <tr style=\"text-align: right;\">\n",
       "      <th></th>\n",
       "      <th>customer_id</th>\n",
       "      <th>order_id</th>\n",
       "      <th>product_id</th>\n",
       "      <th>order_date</th>\n",
       "    </tr>\n",
       "  </thead>\n",
       "  <tbody>\n",
       "    <tr>\n",
       "      <th>805795</th>\n",
       "      <td>5878</td>\n",
       "      <td>52178</td>\n",
       "      <td>694</td>\n",
       "      <td>2010-11-30 15:52:00</td>\n",
       "    </tr>\n",
       "    <tr>\n",
       "      <th>806122</th>\n",
       "      <td>5878</td>\n",
       "      <td>52202</td>\n",
       "      <td>694</td>\n",
       "      <td>2010-11-30 18:46:00</td>\n",
       "    </tr>\n",
       "  </tbody>\n",
       "</table>\n",
       "</div>"
      ],
      "text/plain": [
       "        customer_id  order_id  product_id          order_date\n",
       "805795         5878     52178         694 2010-11-30 15:52:00\n",
       "806122         5878     52202         694 2010-11-30 18:46:00"
      ]
     },
     "execution_count": 11,
     "metadata": {},
     "output_type": "execute_result"
    }
   ],
   "source": [
    "df[ df[\"customer_id\"] == 5878 ][ [\"customer_id\", \"order_id\", \"product_id\", \"order_date\"] ]"
   ]
  },
  {
   "cell_type": "markdown",
   "metadata": {},
   "source": [
    "Все правильно - у `customer_id=5878` два заказа. Интересно, что это был тот же продукт (`product_id=694`), а второй заказ был сделан через ~ 3 часа (2:54 часа). Потом он больше не вернулся. Исходя из этого, можно предположить ряд вещей, которые еще можно проверить, но пока оставим это.\n",
    "\n",
    "Пока, помимо `customer_id`, у нас есть вторая функция `count_orders`, которая определяет количество заказов, сделанных этим клиентом.\n",
    "\n",
    "Мы начнем видеть, действительно, ли количество покупок «помогает» охватить сегмент клиентов `most_revenue_customer`."
   ]
  },
  {
   "cell_type": "code",
   "execution_count": 12,
   "metadata": {},
   "outputs": [
    {
     "data": {
      "text/html": [
       "<div>\n",
       "<style scoped>\n",
       "    .dataframe tbody tr th:only-of-type {\n",
       "        vertical-align: middle;\n",
       "    }\n",
       "\n",
       "    .dataframe tbody tr th {\n",
       "        vertical-align: top;\n",
       "    }\n",
       "\n",
       "    .dataframe thead tr th {\n",
       "        text-align: left;\n",
       "    }\n",
       "\n",
       "    .dataframe thead tr:last-of-type th {\n",
       "        text-align: right;\n",
       "    }\n",
       "</style>\n",
       "<table border=\"1\" class=\"dataframe\">\n",
       "  <thead>\n",
       "    <tr>\n",
       "      <th></th>\n",
       "      <th colspan=\"5\" halign=\"left\">count_orders</th>\n",
       "    </tr>\n",
       "    <tr>\n",
       "      <th></th>\n",
       "      <th>mean</th>\n",
       "      <th>min</th>\n",
       "      <th>max</th>\n",
       "      <th>median</th>\n",
       "      <th>std</th>\n",
       "    </tr>\n",
       "    <tr>\n",
       "      <th>most_revenue_customer</th>\n",
       "      <th></th>\n",
       "      <th></th>\n",
       "      <th></th>\n",
       "      <th></th>\n",
       "      <th></th>\n",
       "    </tr>\n",
       "  </thead>\n",
       "  <tbody>\n",
       "    <tr>\n",
       "      <th>False</th>\n",
       "      <td>3.446542</td>\n",
       "      <td>1</td>\n",
       "      <td>30</td>\n",
       "      <td>2</td>\n",
       "      <td>2.913319</td>\n",
       "    </tr>\n",
       "    <tr>\n",
       "      <th>True</th>\n",
       "      <td>21.305891</td>\n",
       "      <td>1</td>\n",
       "      <td>468</td>\n",
       "      <td>15</td>\n",
       "      <td>27.836488</td>\n",
       "    </tr>\n",
       "  </tbody>\n",
       "</table>\n",
       "</div>"
      ],
      "text/plain": [
       "                      count_orders                           \n",
       "                              mean min  max median        std\n",
       "most_revenue_customer                                        \n",
       "False                     3.446542   1   30      2   2.913319\n",
       "True                     21.305891   1  468     15  27.836488"
      ]
     },
     "execution_count": 12,
     "metadata": {},
     "output_type": "execute_result"
    }
   ],
   "source": [
    "(\n",
    "    df_customer_orders[ [\"most_revenue_customer\", \"count_orders\"] ]\n",
    "    .groupby(\"most_revenue_customer\")\n",
    "    .agg(['mean', 'min', 'max', 'median', 'std'])\n",
    ")"
   ]
  },
  {
   "cell_type": "markdown",
   "metadata": {},
   "source": [
    "### Анализируем результат\n",
    "\n",
    "- `min=1` для `most_revenue_customer=True`, есть как минимум один клиент, который находится в сегменте `most_revenue_customer`, но при этом сделал всего лишь один заказ (но зато какой? хотя это нужно перепроверить, возможно, все дело в \"размере\" заказа).\n",
    "- `max` для `most_revenue_customer=True` 468, для `most_revenue_customer=False` максимум 30. Похоже, что любой клиент, у которого больше 30 заказов, переходит к `most_revenue_customer`. Вероятно, это порог, превышающий определенную сумму (такую гипотезу стоит также перепроверить).\n",
    "- медиана (то есть половина) для `most_revenue_customer = True` составляет 15 (это означает, что половина клиентов имеет как минимум 15+ заказов или наоборот) в случае `most_revenue_customer = False`, половина клиентов имеет только 3 заказа.\n",
    "\n",
    "Уже на основании этой информации можно сделать интересные выводы.\n",
    "\n",
    "Время для заданий. Проведи аналогичный анализ для продуктов (как мы выше сделали для клиентов).\n",
    "\n",
    "## Задание 3.1\n",
    "\n",
    "Только что мы подготовили набор `top_customers`. Теперь сделаем то же самое, только для продуктов и сохраним результат в переменной с именем `top_products`.\n"
   ]
  },
  {
   "cell_type": "markdown",
   "metadata": {},
   "source": [
    "<details>\n",
    "    <summary style=\"background: #e6eaeb; padding: 4px 0; text-align: center; font-size: 20px; font-weight: 900;\"> 👉 Жми тут (1 клик), чтобы увидеть подсказку 👈 </summary>\n",
    "<p>\n",
    "    <h3>💡 Подсказки</h3>\n",
    "\n",
    "1. Сначала нужно вычислить `most_revenue_product` с возможными ответами `True` или `False`.\n",
    "2. Для этого стоит подсчитывать `cumsum` для продуктов.\n",
    "3. Мы уже сделали это для `df_customers`, теперь мы хотим получить идентичный `df_products`.\n",
    "4. Нам нужно определиться - что такое большинство (сколько процентов). Предположим, что большинство - это 80% `value_80prc = int(df [\"price_total\"].sum() * 0.8`.\n",
    "5. Затем уже можно вычислить `most_revenue_product`, например, `df_products[\"most_revenue_product\"] = df_products[\"cumsum\"] < value_80prc`.\n",
    "6. И теперь `set (df_products [df_products [\"most_revenue_product\"]] [\"product_id\"].unique())`.\n",
    "7. Наконец, результат записываем в переменную `top_products`.\n",
    "\n",
    "\n",
    "<details>\n",
    "    <summary style=\"background: #e6eaeb; padding: 4px 0; text-align: center; font-size: 20px; font-weight: 900;\"> 👉 Жми тут (1 клик), чтобы увидеть ответ 👈 </summary>\n",
    "<p>\n",
    "    \n",
    "```python\n",
    "df_products = (\n",
    "    df[ [\"price_total\", \"product_id\"] ]\n",
    "    .groupby(\"product_id\")\n",
    "    .agg(\"sum\")\n",
    "    .reset_index()\n",
    "    .sort_values(by=\"price_total\", ascending=False)\n",
    "    .rename(columns={\"price_total\": \"product_price_total\"})\n",
    ")\n",
    "\n",
    "df_products[\"cumsum\"] = df_products[\"product_price_total\"].cumsum()\n",
    "\n",
    "value_80prc = int(df[\"price_total\"].sum() * 0.8)\n",
    "df_products[\"most_revenue_product\"] = df_products[\"cumsum\"] < value_80prc\n",
    "\n",
    "\n",
    "top_products = set(df_products[ df_products[\"most_revenue_product\"] ][\"product_id\"].unique())\n",
    "len(top_products)\n",
    "```\n",
    "Старайся заглядывать в эту секцию только после того, как самостоятельно сделаешь задачу, чтобы сверить свое решение с нашим. 😉\n",
    "</p>\n",
    "</details> \n",
    "</p>\n",
    "</details>"
   ]
  },
  {
   "cell_type": "code",
   "execution_count": 19,
   "metadata": {},
   "outputs": [
    {
     "data": {
      "text/plain": [
       "925"
      ]
     },
     "execution_count": 19,
     "metadata": {},
     "output_type": "execute_result"
    }
   ],
   "source": [
    "## YOUR CODE HERE\n",
    "df_products = (\n",
    "    df[ [\"price_total\", \"product_id\"] ]\n",
    "    .groupby(\"product_id\")\n",
    "    .agg(\"sum\")\n",
    "    .reset_index()\n",
    "    .sort_values(by=\"price_total\", ascending=False)\n",
    "    .rename(columns={\"price_total\": \"product_price_total\"})\n",
    ")\n",
    "df_products[\"cumsum\"] = df_products[\"product_price_total\"].cumsum()\n",
    "value_80prc = int(df[\"price_total\"].sum() * 0.8)\n",
    "df_products[\"most_revenue_product\"] = df_products[\"cumsum\"] < value_80prc\n",
    "top_products = set(df_products[ df_products[\"most_revenue_product\"] ][\"product_id\"].unique())\n",
    "len(top_products)"
   ]
  },
  {
   "cell_type": "markdown",
   "metadata": {},
   "source": [
    "### Если у Тебя остались вопросы, задай 🙏 в чате Slack [#dwthon_day3](https://bit.ly/3f6tLfV)! Помни, что обучение начинается с вопросов. Очень хорошо, что они возникают :)\n",
    "\n",
    "\n",
    "Если же задание выполнено, нужно сделать следующее:\n",
    "1. Сделать скриншот, на котором видно решение задания\n",
    "2. Добавить этот скриншот в чате [#dwthon_day3_done](https://bit.ly/3ijcS4c)\n",
    "3. Получить бонус за хорошую работу 💪 и завтра будет еще одна порция.\n",
    "\n",
    "Внимание! Если у тебя возникла проблемка с задачей или чего-то не знаешь, не помнишь, не понимаешь - смело спрашивай! Это обучение :) Задавать вопросы по 3-му дню DWthon нужно в чате [#dwthon_day3](https://bit.ly/3f6tLfV)."
   ]
  },
  {
   "cell_type": "markdown",
   "metadata": {},
   "source": [
    "## Дополнительные задачи"
   ]
  },
  {
   "cell_type": "markdown",
   "metadata": {},
   "source": [
    "Стоит пойти еще дальше, если у Тебя есть энергия и желание 😎, чтобы посмотреть на заказы. Каждый заказ состоит из продуктов.\n",
    "\n",
    "Например, давай проверим, какие продукты покупатель купил хотя бы один раз. "
   ]
  },
  {
   "cell_type": "code",
   "execution_count": null,
   "metadata": {},
   "outputs": [],
   "source": [
    "df_customer_products = (\n",
    "    df[ [\"customer_id\", \"product_id\"] ]\n",
    "        .groupby([\"customer_id\"])\n",
    "        .agg(lambda x: len(set(x)) )\n",
    "        .reset_index()\n",
    "        .rename(columns={\"product_id\": \"count_unique_products\"})\n",
    "        \n",
    ")\n",
    "\n",
    "df_customer_products[\"most_revenue_customer\"] = df_customer_products[\"customer_id\"].map(lambda x: x in top_customers)\n",
    "df_customer_products"
   ]
  },
  {
   "cell_type": "markdown",
   "metadata": {},
   "source": [
    "Видим следующее. Например, клиент `customer_id = 0` купил 93 продукта, по крайней мере столько разновидностей продуктов (`product_id`).\n",
    "\n",
    "Другой пример, клиент `customer_id = 5878` (последняя строка в таблице выше ☝️) приобрел только один вид продукта. Теперь давай проведем аналогичный анализ, как указано выше. Для начала я помогу Тебе."
   ]
  },
  {
   "cell_type": "code",
   "execution_count": null,
   "metadata": {},
   "outputs": [],
   "source": [
    "(\n",
    "    df_customer_products[ [\"most_revenue_customer\", \"count_unique_products\"] ]\n",
    "    .groupby(\"most_revenue_customer\")\n",
    "    .agg(['mean', 'min', 'max', 'median', 'std'])\n",
    ")"
   ]
  },
  {
   "cell_type": "markdown",
   "metadata": {},
   "source": [
    "## 🧠 Включим критическое мышление\n",
    "\n",
    "Подумай, что это значит? Сделай выводы и рассмотри (придумай гипотезы и как это можно перепроверить простым образом - лучше всего используя только те данные, которые у нас имеются)."
   ]
  },
  {
   "cell_type": "markdown",
   "metadata": {},
   "source": [
    "## 🤝🗣️ Совместное обсуждение и обмен опытом\n",
    "\n",
    "\n",
    "#### ☝️ Поделись своими мыслями в Slacke **[#dwthon_day3_ideas](https://bit.ly/3vTut6G)**. \n",
    "\n",
    "Если у тебя только идеи, но нет кода - ничего страшного, во-первых всегда можно попросить помощи в Slack. Во-вторых важны идеи! \n",
    "Если есть идеи и код, то тем более поделись. Таким образом, кто-то другой сможет легко повторить Твой опыт, вдохновиться и выдумать что-то новое и потом поделиться своими мыслями. Благодаря этому, выигрывают все :)."
   ]
  },
  {
   "cell_type": "markdown",
   "metadata": {},
   "source": [
    "## 🧠 Включим критическое мышление\n",
    "\n",
    "Так уж получилось, что время играет важную роль в нашей жизни. Если подумать, то очень важно учитывать время в графике. Представь, что с завтрашнего дня запретят понятие времени (во время «пандемии» даже это может «произойти» 😉), что тогда? Что это значит для Тебя?\n",
    "\n",
    "Время очень важно! От этого зависит большая часть нашей деятельности. В контексте этой задачи время сильно влияет на то, когда мы покупаем подарки - т.к. подарки (как правило) должны иметь повод.\n",
    "\n",
    "При случае, добавлю еще раз. По моему опыту, улавливание контекста критически важный навык при анализе данных. Время - один из ключевых контекстов, о котором всегда нужно помнить! Я покажу сейчас на простом примере, почему я так много внимания уделяю «времени»."
   ]
  },
  {
   "cell_type": "code",
   "execution_count": null,
   "metadata": {},
   "outputs": [],
   "source": [
    "df.index = df.order_date\n",
    "df[ ['price_total'] ].resample('m').agg(\"sum\").plot(title=\"Revenue per Month\");"
   ]
  },
  {
   "cell_type": "markdown",
   "metadata": {},
   "source": [
    "График показывает, что доход магазина очень сильно меняется в течение года. Фактически, можно даже показать месяцы, когда материализуется 80% доходов. Видны сезоны. Поздняя осень и начало зимы - самые привлекательные времена для продажи (в этом магазине).\n",
    "\n",
    "Несколько технических предложений.\n",
    "\n",
    "- Мы назначили `df.index = df.order_date` индексом даты, чтобы можно было использовать `resample`.\n",
    "- `resample('M')` это функция, которая облегчает жизнь при работе с временными рядами. Аналогичного эффекта можно добиться и с помощью `groupby`, но нам придется больше помучаться (а зачем?).\n",
    "- параметр `M` в `resample` означает `month`, т.е. собирать данные за месяц, можно также поставить `d` из `day` или даже `7d`, тогда это будет каждые 7 дней. Давай проверим :)"
   ]
  },
  {
   "cell_type": "code",
   "execution_count": null,
   "metadata": {},
   "outputs": [],
   "source": [
    "df[ ['price_total'] ].resample('d').agg(\"sum\").plot(title=\"Revenue per Day\");"
   ]
  },
  {
   "cell_type": "code",
   "execution_count": null,
   "metadata": {},
   "outputs": [],
   "source": [
    "df[ ['price_total'] ].resample('7d').agg(\"sum\").plot(title=\"Revenue per 7 Days\");"
   ]
  },
  {
   "cell_type": "markdown",
   "metadata": {},
   "source": [
    "- `agg (\"sum\")` означает функцию суммы, но это может быть что-то еще, например, `max`,` min`, `median`,` std` или все сразу. Давай проверим.\n",
    "\n",
    "⌛️ Внимание - эта ячейка считается дольше!"
   ]
  },
  {
   "cell_type": "code",
   "execution_count": null,
   "metadata": {},
   "outputs": [],
   "source": [
    "(\n",
    "    df[ ['price_total'] ]\n",
    "        .resample('1m')\n",
    "        .agg([\"mean\", \"median\", \"max\"])\n",
    "        .plot(title=\"Revenue per 7 Days\", figsize=(15, 5))\n",
    ")"
   ]
  },
  {
   "cell_type": "markdown",
   "metadata": {},
   "source": [
    "Ты можешь видеть, что иногда `max` значительно выделяется. Звучит, как тема для обсуждения того, «почему» это происходит. Возможно, это какие-то аномалии."
   ]
  },
  {
   "cell_type": "markdown",
   "metadata": {},
   "source": [
    "Переключаемся на заказы - `order_id`. Проверим количество заказов в месяц."
   ]
  },
  {
   "cell_type": "code",
   "execution_count": null,
   "metadata": {},
   "outputs": [],
   "source": [
    "(\n",
    "    df[ ['order_id'] ]\n",
    "        .resample('1m')\n",
    "        .agg(lambda x: len(set(x)) )\n",
    "        .plot(title=\"Count of Orders per Month\", figsize=(15, 5))\n",
    ");"
   ]
  },
  {
   "cell_type": "markdown",
   "metadata": {},
   "source": [
    "Время подумать. Сделать выводы :)."
   ]
  },
  {
   "cell_type": "markdown",
   "metadata": {},
   "source": [
    "## 🤝🗣️ Совместное обсуждение и обмен опытом\n",
    "\n",
    "В этом уроке уже было затронуто множество идей о том, что проверять. Мы начали с исследования `top_clients`. Затем задания были для `top_products`!\n",
    "\n",
    "#### ☝️ Поделись своими мыслями в Slack **[#dwthon_day3_ideas](https://bit.ly/3vTut6G)**. Если у Тебя есть идея, но у Тебя нет кода - попроси помощи в Slack и попроси кого-нибудь помочь тебе написать код. Однако, если у Тебя есть код, обязательно поделись. Таким образом, кто-то другой сможет легко повторить твой опыт, вдохновиться и выдумать что-то новое и потом поделиться своими мыслями. Благодаря этому, выигрывают все :).\n"
   ]
  },
  {
   "cell_type": "markdown",
   "metadata": {},
   "source": [
    "## Отзыв и дельта Твоего прогресса\n",
    "\n",
    "Дай мне, пожалуйста, знать, что тебе понравилось, было ли трудно (и где именно) и зафиксируй также для себя - чему получилось научиться на этом уроке. \n",
    "### Тут 👉👉 **[анкета](https://bit.ly/3v7r9DE)** 👈👈\n",
    "Твой отзыв позволит улучшить материал!"
   ]
  },
  {
   "cell_type": "markdown",
   "metadata": {},
   "source": [
    "## До завтра!  🙌"
   ]
  }
 ],
 "metadata": {
  "kernelspec": {
   "display_name": "Python 3",
   "language": "python",
   "name": "python3"
  },
  "language_info": {
   "codemirror_mode": {
    "name": "ipython",
    "version": 3
   },
   "file_extension": ".py",
   "mimetype": "text/x-python",
   "name": "python",
   "nbconvert_exporter": "python",
   "pygments_lexer": "ipython3",
   "version": "3.8.6"
  },
  "toc": {
   "base_numbering": 1,
   "nav_menu": {},
   "number_sections": true,
   "sideBar": true,
   "skip_h1_title": false,
   "title_cell": "Table of Contents",
   "title_sidebar": "Contents",
   "toc_cell": false,
   "toc_position": {},
   "toc_section_display": true,
   "toc_window_display": false
  }
 },
 "nbformat": 4,
 "nbformat_minor": 4
}
