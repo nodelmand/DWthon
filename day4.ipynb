{
 "cells": [
  {
   "cell_type": "markdown",
   "id": "external-johnston",
   "metadata": {},
   "source": [
    "# День четвертый DWthon 👋 - выйди за рамки стандартного мышления!\n",
    "\n",
    "### Цель: тренируем первые модели\n",
    "\n",
    "Пришло время тренировать первые модели.💪"
   ]
  },
  {
   "cell_type": "markdown",
   "id": "thrown-cooperative",
   "metadata": {},
   "source": [
    "### ☝️ Прежде, чем мы начнем, важно (!)\n",
    "Каждый день DWthon проводится специальный опрос. Пожалуйста, заполни его, прежде, чем приступить к обучению. В конце концов - это может быть приятным сюрпризом :) Это займет у Тебя **только** 2-3 минуты.\n",
    "\n",
    "\n",
    "##  👉👉 **[Заполни анкету](https://bit.ly/3v97Gm3)** 👈👈 и измерь дельту своего развития 💪"
   ]
  },
  {
   "cell_type": "markdown",
   "id": "lyric-majority",
   "metadata": {},
   "source": [
    "### Куда задавать вопросы ❓\n",
    "\n",
    "Если Ты столкнулся(лась) с трудностями при выполнении задач из этого дня, обязательно размести свой вопрос в чате [#dwthon_day4](https://bit.ly/3fRIQ5X)\n",
    "\n",
    "Не забудь подробно указать, с чем у Тебя возникла проблема. Лучше всего выложить скрин со своим кодом или обнаруженной ошибкой и написать, к какой задаче это относится :)"
   ]
  },
  {
   "cell_type": "code",
   "execution_count": 1,
   "id": "christian-median",
   "metadata": {
    "scrolled": false
   },
   "outputs": [
    {
     "data": {
      "text/html": [
       "<iframe style=\"height:500px;width:100%\" src=\"https://www.youtube.com/embed/OG_tYxH2XSQ\" frameborder=\"0\" allow=\"autoplay; encrypted-media\" allowfullscreen></iframe>\n"
      ],
      "text/plain": [
       "<IPython.core.display.HTML object>"
      ]
     },
     "metadata": {},
     "output_type": "display_data"
    }
   ],
   "source": [
    "%%html\n",
    "<iframe style=\"height:500px;width:100%\" src=\"https://www.youtube.com/embed/OG_tYxH2XSQ\" frameborder=\"0\" allow=\"autoplay; encrypted-media\" allowfullscreen></iframe>"
   ]
  },
  {
   "cell_type": "markdown",
   "id": "equipped-billion",
   "metadata": {},
   "source": [
    "### Шаг за шагом\n",
    "Я также записал для Тебя \"пошаговое\" видео. В видео ниже Ты найдешь именно то, что в этом ноутбуке, только со всеми объяснениями, чтобы облегчить Твою работу и понять проблемы и задачи :) Посмотри, нужна ли Тебе такая дополнительная поддержка."
   ]
  },
  {
   "cell_type": "code",
   "execution_count": null,
   "id": "bulgarian-variation",
   "metadata": {},
   "outputs": [],
   "source": [
    "%%html\n",
    "<iframe style=\"height:500px;width:100%\" src=\"https://www.youtube.com/embed/BceWfvjiGOY\" frameborder=\"0\" allow=\"autoplay; encrypted-media\" allowfullscreen></iframe>"
   ]
  },
  {
   "cell_type": "markdown",
   "id": "increasing-restaurant",
   "metadata": {},
   "source": [
    "## Библиотеки\n",
    "\n",
    "Нам нужны следующие библиотеки:\n",
    "- `pandas` - с этой уже знакомы, правда?\n",
    "- `DecisionTreeClassifier` - для обучения модели (решения)\n",
    "- `sklearn.model_selection` - для проверки (валидации) модели \n",
    "- `gc` прямой вызов \"уборщика\", чтобы освободить память от \"мусора\" (RAM)"
   ]
  },
  {
   "cell_type": "code",
   "execution_count": 2,
   "id": "reflected-breakfast",
   "metadata": {},
   "outputs": [],
   "source": [
    "import pandas as pd\n",
    "import numpy as np\n",
    " \n",
    "from sklearn.tree import DecisionTreeClassifier\n",
    "from sklearn.model_selection import cross_val_score, GroupKFold\n",
    "\n",
    "import gc"
   ]
  },
  {
   "cell_type": "markdown",
   "id": "seasonal-drain",
   "metadata": {},
   "source": [
    "## Загрузим данные\n",
    "\n",
    "Здесь без изменений."
   ]
  },
  {
   "cell_type": "code",
   "execution_count": 3,
   "id": "english-trigger",
   "metadata": {},
   "outputs": [
    {
     "name": "stdout",
     "output_type": "stream",
     "text": [
      "(820906, 9)\n"
     ]
    },
    {
     "data": {
      "text/html": [
       "<div>\n",
       "<style scoped>\n",
       "    .dataframe tbody tr th:only-of-type {\n",
       "        vertical-align: middle;\n",
       "    }\n",
       "\n",
       "    .dataframe tbody tr th {\n",
       "        vertical-align: top;\n",
       "    }\n",
       "\n",
       "    .dataframe thead th {\n",
       "        text-align: right;\n",
       "    }\n",
       "</style>\n",
       "<table border=\"1\" class=\"dataframe\">\n",
       "  <thead>\n",
       "    <tr style=\"text-align: right;\">\n",
       "      <th></th>\n",
       "      <th>order_id</th>\n",
       "      <th>customer_id</th>\n",
       "      <th>product_id</th>\n",
       "      <th>quantity</th>\n",
       "      <th>price_unit</th>\n",
       "      <th>price_total</th>\n",
       "      <th>country_id</th>\n",
       "      <th>order_date</th>\n",
       "      <th>is_canceled</th>\n",
       "    </tr>\n",
       "  </thead>\n",
       "  <tbody>\n",
       "    <tr>\n",
       "      <th>437884</th>\n",
       "      <td>27697</td>\n",
       "      <td>460</td>\n",
       "      <td>1363</td>\n",
       "      <td>4</td>\n",
       "      <td>85</td>\n",
       "      <td>340</td>\n",
       "      <td>0</td>\n",
       "      <td>2010-01-05 13:32:00</td>\n",
       "      <td>False</td>\n",
       "    </tr>\n",
       "    <tr>\n",
       "      <th>98334</th>\n",
       "      <td>6869</td>\n",
       "      <td>2201</td>\n",
       "      <td>89</td>\n",
       "      <td>2</td>\n",
       "      <td>254</td>\n",
       "      <td>508</td>\n",
       "      <td>0</td>\n",
       "      <td>2011-04-03 15:22:00</td>\n",
       "      <td>False</td>\n",
       "    </tr>\n",
       "    <tr>\n",
       "      <th>723833</th>\n",
       "      <td>47379</td>\n",
       "      <td>3422</td>\n",
       "      <td>1022</td>\n",
       "      <td>1</td>\n",
       "      <td>1695</td>\n",
       "      <td>1695</td>\n",
       "      <td>0</td>\n",
       "      <td>2010-10-18 14:12:00</td>\n",
       "      <td>False</td>\n",
       "    </tr>\n",
       "    <tr>\n",
       "      <th>390676</th>\n",
       "      <td>24540</td>\n",
       "      <td>8</td>\n",
       "      <td>832</td>\n",
       "      <td>4</td>\n",
       "      <td>39</td>\n",
       "      <td>156</td>\n",
       "      <td>0</td>\n",
       "      <td>2011-12-02 13:21:00</td>\n",
       "      <td>False</td>\n",
       "    </tr>\n",
       "    <tr>\n",
       "      <th>307040</th>\n",
       "      <td>20120</td>\n",
       "      <td>3907</td>\n",
       "      <td>72</td>\n",
       "      <td>1</td>\n",
       "      <td>39</td>\n",
       "      <td>39</td>\n",
       "      <td>0</td>\n",
       "      <td>2011-10-23 14:47:00</td>\n",
       "      <td>False</td>\n",
       "    </tr>\n",
       "  </tbody>\n",
       "</table>\n",
       "</div>"
      ],
      "text/plain": [
       "        order_id  customer_id  product_id  quantity  price_unit  price_total  \\\n",
       "437884     27697          460        1363         4          85          340   \n",
       "98334       6869         2201          89         2         254          508   \n",
       "723833     47379         3422        1022         1        1695         1695   \n",
       "390676     24540            8         832         4          39          156   \n",
       "307040     20120         3907          72         1          39           39   \n",
       "\n",
       "        country_id          order_date  is_canceled  \n",
       "437884           0 2010-01-05 13:32:00        False  \n",
       "98334            0 2011-04-03 15:22:00        False  \n",
       "723833           0 2010-10-18 14:12:00        False  \n",
       "390676           0 2011-12-02 13:21:00        False  \n",
       "307040           0 2011-10-23 14:47:00        False  "
      ]
     },
     "execution_count": 3,
     "metadata": {},
     "output_type": "execute_result"
    }
   ],
   "source": [
    "df = pd.read_hdf(\"../input/data.h5\")\n",
    "\n",
    "print(df.shape)\n",
    "df.sample(5)"
   ]
  },
  {
   "cell_type": "markdown",
   "id": "requested-coating",
   "metadata": {},
   "source": [
    "## 🎯 Целевая переменная\n",
    "\n",
    "Нам нужно определить, что мы хотим прогнозировать. Мы можем прогнозировать разные вещи, а модель машинного обучения с радостью нам в этом \"постарается\" помочь. Однако мы должны показать нашей модели, чего мы хотим достигнуть! Можешь думать так: *машинное обучение* (ML) - такая золотая рыбка 🐡 (алладин или другой волшебный персонаж), которая пытается выполнить то, что мы хотим, но нам нужно знать, чего мы хотим :). На самом деле - это довольно-таки трудная задача! И правильно сформулировать задачу -  это уже половина или даже более успеха. \n",
    "\n",
    "\n",
    "Эйншнтейн как-то сказал:\n",
    "<blockquote>\n",
    "Если бы мне дали час на решение задачи, от которой зависела бы моя жизнь, то 55 минут я бы потратил на то, чтобы точно сформулировать вопрос. А для того, чтобы ответить правильно на поставленный вопрос, мне нужно не больше пяти минут.    \n",
    "</blockquote>\n",
    "\n",
    "\n",
    "Именно поэтому в предыдущие дни мы \"копались\" в данных, чтобы найти что-то интересное, с точки зрения эффективности решения и ценностей. Одна из задач может быть сформулирована так:\n",
    "\n",
    "предположим, для начала мы хотим предсказать, принадлежит ли клиент \"X\" к сегменту `most_revenue_customer` (т.е. группа около 20% клиентов, которая дает около 80% дохода). \n",
    "Наша целевая переменная будет - `is_top_customer` и значения в ней будут: да (`True`) или нет (`False`).\n",
    "Чтобы просчитать - нам нужно снова создать набор `top_customers` (как мы это делали недавно)."
   ]
  },
  {
   "cell_type": "code",
   "execution_count": 4,
   "id": "capital-samuel",
   "metadata": {},
   "outputs": [
    {
     "data": {
      "text/plain": [
       "0"
      ]
     },
     "execution_count": 4,
     "metadata": {},
     "output_type": "execute_result"
    }
   ],
   "source": [
    "df_customers = (\n",
    "    df[ [\"price_total\", \"customer_id\"] ]\n",
    "    .groupby(\"customer_id\")\n",
    "    .agg(\"sum\")\n",
    "    .reset_index()\n",
    "    .sort_values(by=\"price_total\", ascending=False)\n",
    "    .rename(columns={\"price_total\": \"customer_price_total\"})\n",
    ")\n",
    "\n",
    "\n",
    "df_customers[\"cumsum\"] = df_customers[\"customer_price_total\"].cumsum()\n",
    "value_80prc = int(df[\"price_total\"].sum() * 0.8)\n",
    "df_customers[\"most_revenue_customer\"] = df_customers[\"cumsum\"] < value_80prc\n",
    "\n",
    "\n",
    "top_customers = set(df_customers[ df_customers[\"most_revenue_customer\"] ][\"customer_id\"].unique())\n",
    "\n",
    "del df_customers\n",
    "gc.collect()"
   ]
  },
  {
   "cell_type": "markdown",
   "id": "streaming-professor",
   "metadata": {},
   "source": [
    "Основной код с предыдущего дня. Но немного повторим.\n",
    "\n",
    "\n",
    "```\n",
    "df_customers = (\n",
    "    df[ [\"price_total\", \"customer_id\"] ]\n",
    "    .groupby(\"customer_id\")\n",
    "    .agg(\"sum\")\n",
    "    .reset_index()\n",
    "    .sort_values(by=\"price_total\", ascending=False)\n",
    "    .rename(columns={\"price_total\": \"customer_price_total\"})\n",
    ")\n",
    "```\n",
    "\n",
    "1. `df[ [\"price_total\", \"customer_id\"] ]` - берем из `DataFrame` (т.е. таблицы) два интересующих нас столбца `[\"price_total\", \"customer_id\"]`\n",
    "2. `.groupby(\"customer_id\")` - группируем по `customer_id` (т.е. собираем клиентов в отдельные \"корзинки\")\n",
    "3. `.agg(\"sum\")` - считаем сумму `price_total` для каждого клиента (в итоге получаем сумму, которую потратил каждый клиент в интернет-магазине)\n",
    "4. `.reset_index()` - из секвенции делаем табличку (чисто технический трюк)\n",
    "5. `.sort_values(by=\"price_total\", ascending=False)` - сортируем клиентов по убыванию (именно за убывание отвечает параметр `ascending=False`)\n",
    "7. `.rename(columns={\"price_total\": \"customer_price_total\"})` - переименовываем название столбца из `price_total` в `customer_price_total`\n",
    "\n",
    "Итог всего посчитанного записываем в переменную `df_customers`.\n",
    "\n",
    "\n",
    "В результате получаем табличку (`DataFrame`), в которой есть два столбика:\n",
    "- `customer_id` - ID клиента\n",
    "- `customer_price_total` - общая сумма, которую клиент потратил в магазине\n",
    "\n",
    "Для каждого клиента - одна строчка."
   ]
  },
  {
   "cell_type": "markdown",
   "id": "fantastic-sigma",
   "metadata": {},
   "source": [
    "Идем дальше\n",
    "\n",
    "```\n",
    "df_customers[\"cumsum\"] = df_customers[\"customer_price_total\"].cumsum()\n",
    "value_80prc = int(df[\"price_total\"].sum() * 0.8)\n",
    "df_customers[\"most_revenue_customer\"] = df_customers[\"cumsum\"] < value_80prc\n",
    "```\n",
    "\n",
    "Далее мы хотим найти группы наиболее \"щедрых\" клиентов, которые с пропорции ~20% принесли около 80% дохода. Поэтому, для начала считаем \"кумулятивную сумму\". Иными словами - берем первого щедрого клиента и суммируем его со вторым, потом добавляем третьего и т.д. До момента, пока не увидишь, что получившаяся сумма, составляет 80% дохода. \n",
    "\n",
    "Напоследок создаем новый столбец `df_customers[\"most_revenue_customer\"]`, где будут два возможных значения: да (`True`) и нет (`False`). Самые \"щедрые\" клиенты получат значение - `True`.\n",
    "\n",
    "И теперь можем отфильтровать по ID и собрать в один набор всех `top_customers`. Именно это и делает данная строчка:\n",
    "`top_customers = set(df_customers[ df_customers[\"most_revenue_customer\"] ][\"customer_id\"].unique())`\n",
    "\n",
    "можем разложить ее на меньшие кусочки:\n",
    "1. `df_customers[ df_customers[\"most_revenue_customer\"] ]` - оставляем только строки с самыми \"щедрыми\" клиентами\n",
    "2. `[\"customer_id\"]` - в таблице, которая осталась, \"вытягиваем\" только столбец `customer_id` - там наши ID клиентов\n",
    "3. `.unique()` - эта функция возвращает нам только уникальные ID клиентов\n",
    "\n",
    "И в конце мы еще добавили `set()` - т.е. делаем уникальный набор.\n",
    "\n",
    "И все это записываем в переменную `top_customers`. В результате у нас есть набор (это уникальный список, т.е. каждый клиент будет только раз)."
   ]
  },
  {
   "cell_type": "markdown",
   "id": "rising-fireplace",
   "metadata": {},
   "source": [
    "В самом конце мы \"чистили мусор\" в памяти:\n",
    "\n",
    "```\n",
    "del df_customers\n",
    "gc.collect()\n",
    "```\n",
    "\n",
    "Это для того, чтобы освободить память, например, переменная `df_customers` нам больше не нужна, она была нужна нам для того, чтобы получить `top_customers`. Мы получили. Ключевое слово `del`- освобождает ресурсы (помечает, что уже эта переменная не нужна) и дает право \"уборщику\" почистить. Процесс запуска уборщика - автоматический, но мы можем его \"смотивировать\" убрать как можно скорее, вызвав `gc.collect ()`. Обращаю Твое внимание на это, потому что этот практический \"трюк\", скорее всего, будет частым Твоим другом на практике. Поэтому стоит подружиться заранее.\n",
    "\n",
    "Так к слову, (для домохозяинов и домохозяек),  ИТ-мир настолько классный, что если хочешь прибраться 🗑️, достаточно вызвать \"Мистера Пропера\" из мира IT - `gc.collect ()` и все 💪.\n",
    "\n",
    "Постарайся разобраться в конструкции, которую обсудили, так как далее нужно будет ее немного менять. Если есть вопросы - пиши смело в Slack! Сегодня у нас четвертый день - поэтому вопросы, сомнения и т.д., писать нужно в [#dwthon_day4](https://bit.ly/3fRIQ5X)."
   ]
  },
  {
   "cell_type": "markdown",
   "id": "identified-madison",
   "metadata": {},
   "source": [
    "## Клиенты\n",
    "Теперь у нас есть таблица для каждого клиента с его растратами (сумма покупок). Другими словами, каждая строчка - это уникальный клиент. \n",
    "\n",
    "Дополнительно сделаем более сложную агрегацию, потому что пришло время делать более сложные вещи :).\n",
    "\n",
    "Например: `count_orders = (\" order_id \", lambda x: len (set (x)))`\n",
    "\n",
    "Эта запись означает, что появится новый столбец в нашей таблице с названием `count_orders`. Но, чтобы получить этот столбец, мы берем исходный столбец с именем `order_id` и используем агрегирующую функцию `lambda x: len (set (x))`. Конкретно в этом случае - мы подсчитываем количество уникальных заказов для каждого клиента. Например, Саша сделал 3 заказа, а Маша сделала 5 заказов и т.д. Цифры 3 или 5 будут приписаны новому столбцу `count_orders`.\n",
    "\n",
    "##### ☝️Внимание! Если сложно читать и понимать то, что написано внутри функции `agg`, не беспокойся об этом! \n",
    "Ниже будет такой код.\n",
    "```\n",
    ".agg(\n",
    "        count_orders=(\"order_id\", lambda x: len(set(x))),\n",
    "        count_unq_products=(\"product_id\", lambda x: len(set(x))),\n",
    "        sum_quantity=(\"quantity\", np.sum),\n",
    "        sum_price_unit=(\"price_unit\", np.sum),\n",
    "        sum_price_total=(\"price_total\", np.sum),\n",
    "        count_unq_countries=(\"country_id\", lambda x: len(set(x))),\n",
    "        prob_canceled=(\"is_canceled\", np.mean)\n",
    "    )\n",
    "```\n",
    "На данный момент не так важно понимать все и, тем более, -  как именно это написано на уровне кода. Важно понимать, что мы хотим подсчитывать для каждого клиента, сколько у него заказов, сколько уникальных товаров он купил и т. д. Главное - пойми идею - а сам код сейчас не самое важное, тем более - этому всегда можно доучиться.\n",
    "\n",
    "\n",
    "### Пишем код!"
   ]
  },
  {
   "cell_type": "code",
   "execution_count": 5,
   "id": "german-strengthening",
   "metadata": {},
   "outputs": [
    {
     "data": {
      "text/html": [
       "<div>\n",
       "<style scoped>\n",
       "    .dataframe tbody tr th:only-of-type {\n",
       "        vertical-align: middle;\n",
       "    }\n",
       "\n",
       "    .dataframe tbody tr th {\n",
       "        vertical-align: top;\n",
       "    }\n",
       "\n",
       "    .dataframe thead th {\n",
       "        text-align: right;\n",
       "    }\n",
       "</style>\n",
       "<table border=\"1\" class=\"dataframe\">\n",
       "  <thead>\n",
       "    <tr style=\"text-align: right;\">\n",
       "      <th></th>\n",
       "      <th>customer_id</th>\n",
       "      <th>count_orders</th>\n",
       "      <th>count_unq_products</th>\n",
       "      <th>sum_quantity</th>\n",
       "      <th>sum_price_unit</th>\n",
       "      <th>sum_price_total</th>\n",
       "      <th>count_unq_countries</th>\n",
       "      <th>prob_canceled</th>\n",
       "      <th>most_revenue_customer</th>\n",
       "    </tr>\n",
       "  </thead>\n",
       "  <tbody>\n",
       "    <tr>\n",
       "      <th>0</th>\n",
       "      <td>0</td>\n",
       "      <td>159</td>\n",
       "      <td>93</td>\n",
       "      <td>22976</td>\n",
       "      <td>895827</td>\n",
       "      <td>5746671</td>\n",
       "      <td>1</td>\n",
       "      <td>0.010966</td>\n",
       "      <td>True</td>\n",
       "    </tr>\n",
       "    <tr>\n",
       "      <th>1</th>\n",
       "      <td>1</td>\n",
       "      <td>40</td>\n",
       "      <td>184</td>\n",
       "      <td>3514</td>\n",
       "      <td>205962</td>\n",
       "      <td>910113</td>\n",
       "      <td>1</td>\n",
       "      <td>0.097727</td>\n",
       "      <td>True</td>\n",
       "    </tr>\n",
       "    <tr>\n",
       "      <th>2</th>\n",
       "      <td>2</td>\n",
       "      <td>30</td>\n",
       "      <td>139</td>\n",
       "      <td>8971</td>\n",
       "      <td>95500</td>\n",
       "      <td>1337464</td>\n",
       "      <td>1</td>\n",
       "      <td>0.009050</td>\n",
       "      <td>True</td>\n",
       "    </tr>\n",
       "    <tr>\n",
       "      <th>3</th>\n",
       "      <td>3</td>\n",
       "      <td>9</td>\n",
       "      <td>40</td>\n",
       "      <td>1108</td>\n",
       "      <td>18626</td>\n",
       "      <td>226381</td>\n",
       "      <td>1</td>\n",
       "      <td>0.000000</td>\n",
       "      <td>False</td>\n",
       "    </tr>\n",
       "    <tr>\n",
       "      <th>4</th>\n",
       "      <td>4</td>\n",
       "      <td>14</td>\n",
       "      <td>11</td>\n",
       "      <td>390</td>\n",
       "      <td>20028</td>\n",
       "      <td>346978</td>\n",
       "      <td>1</td>\n",
       "      <td>0.307692</td>\n",
       "      <td>True</td>\n",
       "    </tr>\n",
       "    <tr>\n",
       "      <th>...</th>\n",
       "      <td>...</td>\n",
       "      <td>...</td>\n",
       "      <td>...</td>\n",
       "      <td>...</td>\n",
       "      <td>...</td>\n",
       "      <td>...</td>\n",
       "      <td>...</td>\n",
       "      <td>...</td>\n",
       "      <td>...</td>\n",
       "    </tr>\n",
       "    <tr>\n",
       "      <th>5874</th>\n",
       "      <td>5874</td>\n",
       "      <td>2</td>\n",
       "      <td>46</td>\n",
       "      <td>213</td>\n",
       "      <td>15654</td>\n",
       "      <td>48343</td>\n",
       "      <td>1</td>\n",
       "      <td>0.040000</td>\n",
       "      <td>False</td>\n",
       "    </tr>\n",
       "    <tr>\n",
       "      <th>5875</th>\n",
       "      <td>5875</td>\n",
       "      <td>1</td>\n",
       "      <td>21</td>\n",
       "      <td>261</td>\n",
       "      <td>4944</td>\n",
       "      <td>30081</td>\n",
       "      <td>1</td>\n",
       "      <td>0.000000</td>\n",
       "      <td>False</td>\n",
       "    </tr>\n",
       "    <tr>\n",
       "      <th>5876</th>\n",
       "      <td>5876</td>\n",
       "      <td>1</td>\n",
       "      <td>69</td>\n",
       "      <td>367</td>\n",
       "      <td>33622</td>\n",
       "      <td>110868</td>\n",
       "      <td>1</td>\n",
       "      <td>0.000000</td>\n",
       "      <td>False</td>\n",
       "    </tr>\n",
       "    <tr>\n",
       "      <th>5877</th>\n",
       "      <td>5877</td>\n",
       "      <td>1</td>\n",
       "      <td>33</td>\n",
       "      <td>85</td>\n",
       "      <td>7995</td>\n",
       "      <td>13458</td>\n",
       "      <td>1</td>\n",
       "      <td>0.000000</td>\n",
       "      <td>False</td>\n",
       "    </tr>\n",
       "    <tr>\n",
       "      <th>5878</th>\n",
       "      <td>5878</td>\n",
       "      <td>2</td>\n",
       "      <td>1</td>\n",
       "      <td>2</td>\n",
       "      <td>2190</td>\n",
       "      <td>2190</td>\n",
       "      <td>1</td>\n",
       "      <td>0.500000</td>\n",
       "      <td>False</td>\n",
       "    </tr>\n",
       "  </tbody>\n",
       "</table>\n",
       "<p>5879 rows × 9 columns</p>\n",
       "</div>"
      ],
      "text/plain": [
       "      customer_id  count_orders  count_unq_products  sum_quantity  \\\n",
       "0               0           159                  93         22976   \n",
       "1               1            40                 184          3514   \n",
       "2               2            30                 139          8971   \n",
       "3               3             9                  40          1108   \n",
       "4               4            14                  11           390   \n",
       "...           ...           ...                 ...           ...   \n",
       "5874         5874             2                  46           213   \n",
       "5875         5875             1                  21           261   \n",
       "5876         5876             1                  69           367   \n",
       "5877         5877             1                  33            85   \n",
       "5878         5878             2                   1             2   \n",
       "\n",
       "      sum_price_unit  sum_price_total  count_unq_countries  prob_canceled  \\\n",
       "0             895827          5746671                    1       0.010966   \n",
       "1             205962           910113                    1       0.097727   \n",
       "2              95500          1337464                    1       0.009050   \n",
       "3              18626           226381                    1       0.000000   \n",
       "4              20028           346978                    1       0.307692   \n",
       "...              ...              ...                  ...            ...   \n",
       "5874           15654            48343                    1       0.040000   \n",
       "5875            4944            30081                    1       0.000000   \n",
       "5876           33622           110868                    1       0.000000   \n",
       "5877            7995            13458                    1       0.000000   \n",
       "5878            2190             2190                    1       0.500000   \n",
       "\n",
       "      most_revenue_customer  \n",
       "0                      True  \n",
       "1                      True  \n",
       "2                      True  \n",
       "3                     False  \n",
       "4                      True  \n",
       "...                     ...  \n",
       "5874                  False  \n",
       "5875                  False  \n",
       "5876                  False  \n",
       "5877                  False  \n",
       "5878                  False  \n",
       "\n",
       "[5879 rows x 9 columns]"
      ]
     },
     "execution_count": 5,
     "metadata": {},
     "output_type": "execute_result"
    }
   ],
   "source": [
    "df_customers = (\n",
    "    df\n",
    "    .groupby(\"customer_id\")\n",
    "    .agg(\n",
    "        count_orders=(\"order_id\", lambda x: len(set(x))),\n",
    "        count_unq_products=(\"product_id\", lambda x: len(set(x))),\n",
    "        sum_quantity=(\"quantity\", np.sum),\n",
    "        sum_price_unit=(\"price_unit\", np.sum),\n",
    "        sum_price_total=(\"price_total\", np.sum),\n",
    "        count_unq_countries=(\"country_id\", lambda x: len(set(x))),\n",
    "        prob_canceled=(\"is_canceled\", np.mean)\n",
    "    ).reset_index()\n",
    ")\n",
    "\n",
    "df_customers[\"most_revenue_customer\"] = df_customers[\"customer_id\"].map(lambda x: x in top_customers)\n",
    "\n",
    "df_customers"
   ]
  },
  {
   "cell_type": "markdown",
   "id": "desperate-nursery",
   "metadata": {},
   "source": [
    "Давай вместе посмотрим - что внутри `df_customers` таблицы (`DataFrame`).\n",
    "\n",
    "- `customer_id` - ID клиента.\n",
    "- `count_orders` - количество уникальных заказов за все время для данного клиента.\n",
    "    - `count_unq_products` - количество уникальных продуктов (например, Саша покупает только хлеб и молоко, значит - 2 уникальных продукта) за все время в разрезе каждого клиента.\n",
    "- `sum_quantity` - сумму покупаемых товаров в штуках (например, Саша купил 2 шт. хлеба и 3 шт. молока - сумма будет 5.\n",
    "- `sum_price_unit` - сумма для каждого вида продукта (например, у Саши 2 вида продукта - поэтому это будет сумма молока и хлеба - игнорируются штуки закупленных продуктов.\n",
    "- `sum_price_total` - общая сумма затрат за все время истории в данных - для каждого клиента отдельно.\n",
    "- `count_unq_countries` - из каких стран покупал клиент (обычно одна страна, но иногда бывает больше).\n",
    "- `prob_canceled` - вероятность того, что заказ будет возвращен (здесь простая формула - кол-во заказов, которые клиент вернул, делим на количество заказов, которые он купил). Значение может быть между 0 и 1. Где 0 - это значит, что данный клиент никогда не возвращал заказы, а 1 -  клиент вернул все свои заказы.\n",
    "- `most_revenue_customer` - информация о том, принадлежит ли клиент к группе самых щедрых клиентов.\n",
    "\n",
    "Для создания нашей целевой переменной будем использовать столбец `most_revenue_customer`. Давай перепроверим - какой процент клиентов принадлежит группе `most_revenue_customer`."
   ]
  },
  {
   "cell_type": "code",
   "execution_count": 6,
   "id": "oriented-sixth",
   "metadata": {},
   "outputs": [
    {
     "data": {
      "text/plain": [
       "False    0.774792\n",
       "True     0.225208\n",
       "Name: most_revenue_customer, dtype: float64"
      ]
     },
     "execution_count": 6,
     "metadata": {},
     "output_type": "execute_result"
    }
   ],
   "source": [
    "df_customers[\"most_revenue_customer\"].value_counts(normalize=True)"
   ]
  },
  {
   "cell_type": "markdown",
   "id": "proof-friendship",
   "metadata": {},
   "source": [
    "У нас 22,5% клиентов принадлежат к категории `top_customers`.\n",
    "\n",
    "Хорошо! Пора тренировать модель."
   ]
  },
  {
   "cell_type": "markdown",
   "id": "religious-casting",
   "metadata": {},
   "source": [
    "# Краткий глоссарий ML\n",
    "\n",
    "\n",
    "## Что такое алгоритм (например, деревья решений)?\n",
    "Это определенная последовательность шагов, которые будут выполнены для обучения модели (и лучшего ее изучения).\n",
    "\n",
    "\n",
    "## Что такое модель?\n",
    "Это определенное «состояние» того, что было обнаружено в исторических данных.\n",
    "\n",
    "Пример по аналогии.\n",
    "\n",
    "Алгоритм - это рецепт блюда (даже больше набор ингредиентов). \n",
    "Модель - реализованное состояние этого рецепта, т.е. готовое блюдо. \n",
    "\n",
    "\n",
    "В этой модели подготовлены данные.\n",
    "Рецепт всего один, а блюд могут быть миллионы и они будут разными, в зависимости от того, что было подано «на входе» (брошено в чашу).\n",
    "\n",
    "\n",
    "## Что значит обучить модель?\n",
    "Это процесс, когда модель ищет зависимости (корреляции) в исторических данных. Результат обучения - это готовая модель, которую мы затем можем использовать для предсказания будущего (или иначе - существуют разные творческие подходы, как можно ее использовать).\n",
    "\n",
    "## Что такое признаки?\n",
    "Это свойства (характеристики) объектов. В нашем случае характеристиками для покупателя могут быть: \n",
    "- количество заказов, \n",
    "- количество  купленных товаров\n",
    "- и т.д.\n",
    "\n",
    "Можно сказать, что признаки - это столбцы в нашей таблице (конечно, без целевой переменной, в нашем случае, без `most_revenue_customer`).\n",
    "\n",
    "## Что такое целевая переменная?\n",
    "Это то, что предсказывает модель.\n",
    "Можно сказать, что это тот столбец в нашей таблице, который нас интересует. В нашем случае - `most_revenue_customer`, т.е. нас интересует описание клиента (его признаки), которые помогут определить -  будет ли клиент в группе наиболее \"щедрых\" клиентов или нет.\n",
    "\n",
    "\n",
    "## Почему целевая переменная не может быть в признаках?\n",
    "Современный алгоритм «умный». Он сразу «поймает», что это ответ, и будет использовать этот признак, как ответ. Но какова в этом ценность? Если у нее в признаках (описаниях) заранее \"зашит\" ответ - толку на основании этого прогнозировать ответ. Нет смысла прогонять это через модель. \n",
    "\n",
    "Пример.\n",
    "*Это все равно, что студент на экзамене вместе с вытянутым вопросом получает ответ. Студент конечно же может не подсматривать в 100% правильный ответ и думать сам, но все же прагматичнее переписать и минимизировать риски (а машинное обучение - это прежде всего прагматичная оптимизация).*\n",
    "\n",
    "\n",
    "## Зачем мы тренируем модель?\n",
    "Чтобы выловить неочевидные взаимосвязи и затем - делать прогнозы. Модель тренируется только на основании признаков, а ответ записывается в целевую переменную. Хотя стоит заметить, что может быть по-разному. В нашем случае речь идет о более творческом подходе, и это именно то, что будет завтра -  и что стоит обязательно выполнить. Сегодня давай сосредоточимся на обучении модели по метрике успеха.\n",
    "\n",
    "\n",
    "## Что такое метрика успеха?\n",
    "Это способ измерить качество работы нашего решения (модели). \n",
    "\n",
    "Простой пример.\n",
    "У нас есть две (разные) модели. Каждая из моделей дает свой результат - в итоге у нас есть два разных результата. Вопрос: как мы можем сказать, у какой модели лучший результат? Метрика успеха сводится к «сжатию» качества модели в конкретное число. Иными словами, очень легко сравнивать конкретные числа, например, этими числами является точность.\n",
    "\n",
    "Точность - это один из примеров метрики. Например, модель A дает точность 95%, модель Б - 99%. В такоме случае (для этой метрики), модель Б лучше. Хотя в метрике есть множество нюансов, которые нужно понимать, не будем сейчас вдаваться в подробности.\n",
    "\n",
    "\n",
    "🤔 Обрати внимание, что количество «почему?» может быть намного больше. Цель DWthon -  направить Тебя от точки А к точке Б и показать, что Ты тоже можешь, даже если временами я очень сильно веду Тебя за ручку. Если Тебе нравится сам процесс, следующий шаг - узнать больше о том, как работает модель, как работает проверка, и о множестве важных нюансов. \n",
    "\n",
    "### Приглашаю на мой автрский онлайн курс по [Data Science](https://bit.ly/3oK4Wya) ❤️, который стартует после DWthon. Данный курс прошли уже более 1000 участников из разных стран мира и успешно применяют полученные знания в работе (мои студенты работают в таких фирмах как Google, IBM, Intel, Microsoft, Oracle, Cisco, Nokia, Motorola, Adobe, Ryanair, UBS, Revolut, Santander, RTB House...).\n",
    "\n",
    "\n",
    "### Здесь можно увидеть отзывы наших студентов: [мнения выпускников](https://dataworkshop.ru/#reviews) или послушать тут 👇👇👇"
   ]
  },
  {
   "cell_type": "code",
   "execution_count": 7,
   "id": "accredited-supplier",
   "metadata": {
    "collapsed": true
   },
   "outputs": [
    {
     "data": {
      "text/html": [
       "<iframe style=\"height:500px;width:100%\" src=\"https://www.youtube.com/embed/3gzl91jzRw4\" frameborder=\"0\" allow=\"autoplay; encrypted-media\" allowfullscreen></iframe>\n"
      ],
      "text/plain": [
       "<IPython.core.display.HTML object>"
      ]
     },
     "metadata": {},
     "output_type": "display_data"
    }
   ],
   "source": [
    "%%html\n",
    "<iframe style=\"height:500px;width:100%\" src=\"https://www.youtube.com/embed/3gzl91jzRw4\" frameborder=\"0\" allow=\"autoplay; encrypted-media\" allowfullscreen></iframe>"
   ]
  },
  {
   "cell_type": "markdown",
   "id": "second-hayes",
   "metadata": {},
   "source": [
    "Ну что, теперь мы подготовим признаки и будем тренировать модель.\n",
    "\n",
    "Ниже приведен код, который делает простую вещь, а именно - оставляет только столбцы, которые являются числовыми или  логическими (анг. `boolean`) - то есть столбцы, которые принимают значения: `True` или `False`."
   ]
  },
  {
   "cell_type": "code",
   "execution_count": 8,
   "id": "early-boundary",
   "metadata": {},
   "outputs": [
    {
     "data": {
      "text/plain": [
       "['customer_id',\n",
       " 'count_orders',\n",
       " 'count_unq_products',\n",
       " 'sum_quantity',\n",
       " 'sum_price_unit',\n",
       " 'sum_price_total',\n",
       " 'count_unq_countries',\n",
       " 'prob_canceled',\n",
       " 'most_revenue_customer']"
      ]
     },
     "execution_count": 8,
     "metadata": {},
     "output_type": "execute_result"
    }
   ],
   "source": [
    "feats = list(df_customers.select_dtypes([np.number, bool]).columns)\n",
    "\n",
    "feats"
   ]
  },
  {
   "cell_type": "markdown",
   "id": "conceptual-mortgage",
   "metadata": {},
   "source": [
    "Как видно, среди признаков также \"выловили\" `most_revenue_customer`, который (напомню) является нашей целевой переменной. \n",
    "Его следует удалить. Это уже объяснял почему, если забыл(а)- почитай выше (не хотим давать однозначный ответ для студента на экзамене - это как-то не логично). \n",
    "\n",
    "Проблему можно легко решить, cоздав список исключений. На данный момент в этом списке будет только один столбец `most_revenue_customer`, но можно потом добавить больше."
   ]
  },
  {
   "cell_type": "code",
   "execution_count": 9,
   "id": "historical-region",
   "metadata": {},
   "outputs": [],
   "source": [
    "black_list = [\"most_revenue_customer\"]\n",
    "feats = [x for x in feats if x not in black_list]"
   ]
  },
  {
   "cell_type": "markdown",
   "id": "sweet-fundamental",
   "metadata": {},
   "source": [
    "У нас остался минимальный шаг, чтобы получить так называемые `X` и `y`.\n",
    "\n",
    "- `X` - это наша таблица (обычно ее называют в этом случае как - матрица) признаков.\n",
    "- `y` - это наша целевая переменная"
   ]
  },
  {
   "cell_type": "code",
   "execution_count": 10,
   "id": "detailed-december",
   "metadata": {},
   "outputs": [],
   "source": [
    "X = df_customers[feats].values\n",
    "y = df_customers[\"most_revenue_customer\"].values"
   ]
  },
  {
   "cell_type": "markdown",
   "id": "postal-substance",
   "metadata": {},
   "source": [
    "### Обучаем модель\n",
    "\n",
    "Сначала мы воспользуемся деревом решений. Как я уже упоминал ранее, не нужно заранее знать, как работает этот алгоритм. Для начала можешь думать об этом, как о решении типа «черный ящик», которое может учиться «как-то», на основании данных. Главное, что дает результат."
   ]
  },
  {
   "cell_type": "code",
   "execution_count": 11,
   "id": "biblical-recommendation",
   "metadata": {},
   "outputs": [
    {
     "data": {
      "text/plain": [
       "(0.9996598639455783, 0.0004165798882284457)"
      ]
     },
     "execution_count": 11,
     "metadata": {},
     "output_type": "execute_result"
    }
   ],
   "source": [
    "scores = cross_val_score(DecisionTreeClassifier(max_depth=3), X, y, scoring=\"accuracy\", cv=5)\n",
    "np.mean(scores), np.std(scores)"
   ]
  },
  {
   "cell_type": "markdown",
   "id": "ideal-champagne",
   "metadata": {},
   "source": [
    "Получили очень хороший результат: точность 99%. Поздравляю! Твоя первая модель только что создана. Хотя качество достаточно подозрительно хорошее, скорее всего - у нас имеется какая-та сильная корреляция (взаимосвязь). \n",
    "\n",
    "\n",
    "Сейчас об этом не стоит сильно беспокоиться. Мы еще к этому вернемся \"завтра\", где займемся интерпретацией модели."
   ]
  },
  {
   "cell_type": "markdown",
   "id": "optical-learning",
   "metadata": {},
   "source": [
    "## Задание 4.1\n",
    "\n",
    "Мы только что обучили модель для `top_customers`. Твоя задача - обучить новую модель, используя `top_products`"
   ]
  },
  {
   "cell_type": "markdown",
   "id": "formal-prototype",
   "metadata": {},
   "source": [
    "<details>\n",
    "    <summary style=\"background: #e6eaeb; padding: 4px 0; text-align: center; font-size: 20px; font-weight: 900;\"> 👉 Жми тут (1 клик), чтобы увидеть подсказку 👈 </summary>\n",
    "<p>\n",
    "    <h3>💡 Подсказки</h3>\n",
    "\n",
    "1. Сначала подготовь набор `top_products`.\n",
    "2. Затем подготовь `df_products`, который будет включать полезные признаки (конечно, можешь вдохновиться тем, как мы делали для` df_customers`).\n",
    "3. Затем приготовь `feats`, `X` i `y`.\n",
    "4. Обучи модель (например, `DecisionTreeClassifier`).\n",
    "5. Поделись своим результатом :)\n",
    "\n",
    "<details>\n",
    "    <summary style=\"background: #e6eaeb; padding: 4px 0; text-align: center; font-size: 20px; font-weight: 900;\"> 👉 Жми тут (1 клик), чтобы увидеть ответ 👈 </summary>\n",
    "<p>\n",
    "    \n",
    "```python\n",
    "print(\"Ищем top_products, ок. 20% этих продуктов принесли ок. 80% прибыли\")\n",
    "df_products = (\n",
    "    df[ [\"price_total\", \"product_id\"] ]\n",
    "    .groupby(\"product_id\")\n",
    "    .agg(\"sum\")\n",
    "    .reset_index()\n",
    "    .sort_values(by=\"price_total\", ascending=False)\n",
    "    .rename(columns={\"price_total\": \"product_price_total\"})\n",
    ")\n",
    "\n",
    "\n",
    "df_products[\"cumsum\"] = df_products[\"product_price_total\"].cumsum()\n",
    "value_80prc = int(df[\"price_total\"].sum() * 0.8)\n",
    "df_products[\"most_revenue_product\"] = df_products[\"cumsum\"] < value_80prc\n",
    "\n",
    "\n",
    "top_products = set(df_products[ df_products[\"most_revenue_product\"] ][\"product_id\"].unique())\n",
    "\n",
    "del df_products\n",
    "gc.collect()\n",
    "print(f\"кол-во продуктов в TOP: {len(top_products)} из {df['product_id'].nunique()} (ок. {len(top_products)/df['product_id'].nunique()*100:.2f}%)\")\n",
    "\n",
    "\n",
    "\n",
    "print(\"генерируем признаки\")\n",
    "df_products = (\n",
    "    df\n",
    "    .groupby(\"product_id\")\n",
    "    .agg(\n",
    "        count_orders=(\"order_id\", lambda x: len(set(x))),\n",
    "        count_unq_customers=(\"customer_id\", lambda x: len(set(x))),\n",
    "        sum_quantity=(\"quantity\", np.sum),\n",
    "        sum_price_unit=(\"price_unit\", np.sum),\n",
    "        sum_price_total=(\"price_total\", np.sum),\n",
    "        count_unq_countries=(\"country_id\", lambda x: len(set(x))),\n",
    "        prob_canceled=(\"is_canceled\", np.mean)\n",
    "    ).reset_index()\n",
    ")\n",
    "\n",
    "df_products[\"most_revenue_product\"] = df_products[\"product_id\"].map(lambda x: x in top_products)\n",
    "\n",
    "feats = list(df_products.select_dtypes([np.number, bool]).columns)\n",
    "black_list = [\"most_revenue_product\"]\n",
    "feats = [x for x in feats if x not in black_list]\n",
    "print(feats)\n",
    "\n",
    "\n",
    "## prepare X, y\n",
    "X = df_products[feats].values\n",
    "y = df_products[\"most_revenue_product\"].values\n",
    "\n",
    "## validate model\n",
    "scores = cross_val_score(DecisionTreeClassifier(max_depth=3), X, y, scoring=\"accuracy\", cv=5)\n",
    "np.mean(scores), np.std(scores)\n",
    "```\n",
    "Старайся заглядывать в эту секцию только после того, как самостоятельно сделаешь задачу, чтобы сверить свое решение с нашим. 😉\n",
    "</p>\n",
    "</details> \n",
    "</p>\n",
    "</details>"
   ]
  },
  {
   "cell_type": "code",
   "execution_count": 21,
   "id": "painted-honey",
   "metadata": {},
   "outputs": [
    {
     "data": {
      "text/plain": [
       "(0.999484203525108, 0.0006317193061419072)"
      ]
     },
     "execution_count": 21,
     "metadata": {},
     "output_type": "execute_result"
    }
   ],
   "source": [
    "### YOUR CODE HERE\n",
    "df_products = (\n",
    "    df[ [\"price_total\", \"product_id\"] ]\n",
    "    .groupby(\"product_id\")\n",
    "    .agg(\"sum\")\n",
    "    .reset_index()\n",
    "    .sort_values(by=\"price_total\", ascending=False)\n",
    "    .rename(columns={\"price_total\": \"product_price_total\"})\n",
    ")\n",
    "\n",
    "\n",
    "df_products[\"cumsum\"] = df_products[\"product_price_total\"].cumsum()\n",
    "value_80prc = int(df[\"price_total\"].sum() * 0.8)\n",
    "df_products[\"most_revenue_product\"] = df_products[\"cumsum\"] < value_80prc\n",
    "\n",
    "\n",
    "top_products = set(df_products[ df_products[\"most_revenue_product\"] ][\"product_id\"].unique())\n",
    "\n",
    "del df_products\n",
    "gc.collect()\n",
    "\n",
    "\n",
    "df_products = (\n",
    "    df\n",
    "    .groupby(\"product_id\")\n",
    "    .agg(\n",
    "        count_orders=(\"order_id\", lambda x: len(set(x))),\n",
    "        count_unq_customers=(\"customer_id\", lambda x: len(set(x))),\n",
    "        sum_quantity=(\"quantity\", np.sum),\n",
    "        sum_price_unit=(\"price_unit\", np.sum),\n",
    "        sum_price_total=(\"price_total\", np.sum),\n",
    "        count_unq_countries=(\"country_id\", lambda x: len(set(x))),\n",
    "        prob_canceled=(\"is_canceled\", np.mean)\n",
    "    ).reset_index()\n",
    ")\n",
    "\n",
    "df_products[\"most_revenue_product\"] = df_products[\"product_id\"].map(lambda x: x in top_products)\n",
    "feats = list(df_products.select_dtypes([np.number, bool]).columns)\n",
    "feats\n",
    "black_list = [\"most_revenue_product\"]\n",
    "feats = [x for x in feats if x not in black_list]\n",
    "X = df_products[feats].values\n",
    "y = df_products[\"most_revenue_product\"].values\n",
    "scores = cross_val_score(DecisionTreeClassifier(max_depth=3), X, y, scoring=\"accuracy\", cv=5)\n",
    "np.mean(scores), np.std(scores)"
   ]
  },
  {
   "cell_type": "markdown",
   "id": "opponent-metabolism",
   "metadata": {},
   "source": [
    "# Если задание выполнено, нужно сделать следующее:\n",
    "1. Сделать скриншот, на котором видно решение задания\n",
    "2. Добавить этот скриншот на канале [#dwthon_day4_done](https://bit.ly/3ge78pw)\n",
    "3. Получить бонус за хорошую работу 💪 и завтра будет еще одна порция.\n",
    "\n",
    "Внимание! Если у Тебя возникла проблемка с задачей или чего-то не знаешь, не помнишь, не понимаешь - смело спрашивай! Это обучение :) Задавать вопросы по 4-му дню DWthon нужно в чате [#dwthon_day4](https://bit.ly/3fRIQ5X)."
   ]
  },
  {
   "cell_type": "markdown",
   "id": "following-statistics",
   "metadata": {},
   "source": [
    "## Рекомендую закрепить материал просмотрев вебинар 👇👇👇"
   ]
  },
  {
   "cell_type": "code",
   "execution_count": 22,
   "id": "supreme-enterprise",
   "metadata": {},
   "outputs": [
    {
     "data": {
      "text/html": [
       "<iframe style=\"height:500px;width:100%\" src=\"https://www.youtube.com/embed/fs9vw6tSyUE\" frameborder=\"0\" allow=\"autoplay; encrypted-media\" allowfullscreen></iframe>\n"
      ],
      "text/plain": [
       "<IPython.core.display.HTML object>"
      ]
     },
     "metadata": {},
     "output_type": "display_data"
    }
   ],
   "source": [
    "\n",
    "%%html\n",
    "<iframe style=\"height:500px;width:100%\" src=\"https://www.youtube.com/embed/fs9vw6tSyUE\" frameborder=\"0\" allow=\"autoplay; encrypted-media\" allowfullscreen></iframe>"
   ]
  },
  {
   "cell_type": "markdown",
   "id": "exciting-catering",
   "metadata": {},
   "source": [
    "## Дополнительные задачи\n",
    "\n",
    "\n",
    "Переходим к дополнительным задачам и размышлениям. Делать это необязательно, но оно того стоит :)."
   ]
  },
  {
   "cell_type": "markdown",
   "id": "indian-revelation",
   "metadata": {},
   "source": [
    "## 🧠 Включим критическое мышление\n",
    "\n",
    "\n",
    "Давай подумаем вместе, что именно мы сейчас делаем (вот именно, что это было?).\n",
    "\n",
    "У нас есть список наших клиентов на момент X (последняя покупка). Посмотрим на ось времени. Лучше сразу разберем это на примере."
   ]
  },
  {
   "cell_type": "code",
   "execution_count": null,
   "id": "israeli-retro",
   "metadata": {},
   "outputs": [],
   "source": [
    "df[\"order_date\"].min(), df[\"order_date\"].max()"
   ]
  },
  {
   "cell_type": "markdown",
   "id": "automatic-stuart",
   "metadata": {},
   "source": [
    "У нас есть данные с `2009-12-01 07:45:00` по `2011-12-09 12:50:00`.\n",
    "\n",
    "Когда мы обучаем модель, мы передаем модели всю историю, которая у нас есть о клиенте. Все это означает, что модель учится на ситуациях, когда мы уже «довольно много» знаем о клиенте. Фактически, может оказаться, что - зачем в таком случае ML? Зачем использовать трудные алгоритмы, если можно на калькуляторе посчитать сколько потратил клиент и по факту приписать его к `top_customer`.\n",
    "\n",
    "Было бы конечно интереснее обучить модель немного по-другому и выявить ее потенциал в самом начале.\n",
    "\n",
    "Давай подумаем об этом так.\n",
    "\n",
    "У нас есть история о клиенте, например, за 2 года. Мы знаем, что он находится в сегменте `top_customer`. Однако этот клиент присоединился к этому сегменту... скажем, через 15 месяцев. Значит, на временной оси между 0 и 15 месяцев не было понятно - будет ли данный клиент в `top_customer`, но уже, набрав критическую массу (клиент потратил X денег), клиент присоединяется к клубу `top_customer`, из которого не исключают. Получается, что предсказывать судьбу этого клиента на оси времени через 15 месяцев,  становится мало интересной задачей - т.к. ответ остается без изменений.\n",
    "\n",
    "\n",
    "### Что мы можем сделать?\n",
    "Что ж - это хороший вопрос. Понимание оси времени в машинном обучении очень важно, и, по моему опыту, именно здесь совершается больше всего ошибок, особенно новичками. Поэтому заостряю на конкретном примере Твое внимание. Надо подумать что дальше :).\n",
    "\n",
    "\n",
    "## 🧠 Включим критическое мышление\n",
    "Давай думать, как мы можем воспользоваться нашей ситуацией.\n",
    "\n",
    "1. Мы знаем, чем это «заканчивается» (если клиент уже в `top_customers`, то там уже остается), но мы еще не знаем, кто будет там в будущем (у нас пока нет этих данных).\n",
    "2. Но мы хотим показать модели только часть данных (например, мы знаем историю двухлетней давности, но мы показываем модели только первые 10 месяцев или 12 месяцев, или 15 месяцев, или другой разумный для нас промежуток времени).\n",
    "\n",
    "Подумай, как мы можем обучить модель, чтобы, с одной стороны, она получала как можно меньше информации (то есть могла «распознать» потенциал, как можно скорее). Какие плюсы и минусы (по крайней мере, на Твой взгляд).\n",
    "\n",
    "\n",
    "#### ☝️Обрати внимание, что речь идет не о технических «размышлениях» - как это сделать (Ты можешь всегда попросить помощи в чатике). Подумай об этом концептуально, т.е. чего мы хотим достичь :)\n",
    "\n",
    "Что нас волнует? Предполагается ли, что модель учится на уже более продвинутом «состоянии» клиента, когда история достаточно длинная (например, 1-2 года, и поэтому уже известно, кто есть кто), или модель умеет находить «золотой потенциал» намного раньше. Последнее звучит как нечто с гораздо большей добавленной стоимостью. И здесь машинное обучение может иметь преимущество перед «классической аналитикой»."
   ]
  },
  {
   "cell_type": "markdown",
   "id": "happy-regard",
   "metadata": {},
   "source": [
    "## 🤝🗣️ Совместное обсуждение и обмен опытом\n",
    "Было бы неплохо это обсудить :)\n",
    "\n",
    "#### ☝️ Поделись своими мыслями в Slacke **[#dwthon_day4_ideas](https://bit.ly/3vTbQj3)**. \n",
    "\n",
    "Если у Тебя только идеи, но нет кода - ничего страшного, во-первых всегда можно попросить помощи в Slack. Во-вторых важны идеи! \n",
    "Если есть идеи и код, то тем более поделись. Таким образом, кто-то другой сможет легко повторить твой опыт, вдохновиться и выдумать что-то новое и потом поделиться своими мыслями. Благодаря этому, выигрывают все :).\n",
    "\n",
    "\n",
    "Внимание! Чтобы сделать код читабельным, предлагаю в самом начале добавлять теги к сообщению.\n",
    "\n",
    "Например:\n",
    "```\n",
    "#how_to_train_model\n",
    "\n",
    "Мои выводы ...\n",
    "1. ...\n",
    "2. ...\n",
    "3. ...\n",
    "```\n",
    "\n",
    "Пиши контент как удобно, но давай начнем с тега `#how_to_train_model`, чтобы было легче фильтровать среди других сообщений.\n",
    "\n",
    "--- "
   ]
  },
  {
   "cell_type": "markdown",
   "id": "cloudy-hungarian",
   "metadata": {},
   "source": [
    "## Отзыв и дельта Твоего прогресса\n",
    "\n",
    "Дай мне, пожалуйста, знать, что тебе понравилось, было ли трудно (и где именно) и зафиксируй также для себя - чему получилось научиться на этом уроке.\n",
    "\n",
    "# Тут 👉👉 [анкета](https://bit.ly/3gnQAvj) 👈👈\n",
    "Твой отзыв позволит улучшить материал!"
   ]
  },
  {
   "cell_type": "markdown",
   "id": "liquid-poster",
   "metadata": {},
   "source": [
    "## До завтра! 🙌"
   ]
  }
 ],
 "metadata": {
  "kernelspec": {
   "display_name": "Python 3",
   "language": "python",
   "name": "python3"
  },
  "language_info": {
   "codemirror_mode": {
    "name": "ipython",
    "version": 3
   },
   "file_extension": ".py",
   "mimetype": "text/x-python",
   "name": "python",
   "nbconvert_exporter": "python",
   "pygments_lexer": "ipython3",
   "version": "3.8.6"
  }
 },
 "nbformat": 4,
 "nbformat_minor": 5
}
